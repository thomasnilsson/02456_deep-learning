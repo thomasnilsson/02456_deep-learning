{
 "cells": [
  {
   "cell_type": "code",
   "execution_count": 3,
   "metadata": {
    "colab": {
     "base_uri": "https://localhost:8080/",
     "height": 632
    },
    "colab_type": "code",
    "id": "8ePg-a3ALIUf",
    "outputId": "74609b24-c269-4f02-b1ae-1d472116c8b9"
   },
   "outputs": [
    {
     "name": "stdout",
     "output_type": "stream",
     "text": [
      "Requirement already satisfied: en_core_web_sm==2.2.0 from https://github.com/explosion/spacy-models/releases/download/en_core_web_sm-2.2.0/en_core_web_sm-2.2.0.tar.gz#egg=en_core_web_sm==2.2.0 in /Users/tnni/anaconda3/lib/python3.7/site-packages (2.2.0)\n",
      "Requirement already satisfied: spacy>=2.2.0 in /Users/tnni/anaconda3/lib/python3.7/site-packages (from en_core_web_sm==2.2.0) (2.2.1)\n",
      "Requirement already satisfied: plac<1.0.0,>=0.9.6 in /Users/tnni/anaconda3/lib/python3.7/site-packages (from spacy>=2.2.0->en_core_web_sm==2.2.0) (0.9.6)\n",
      "Requirement already satisfied: wasabi<1.1.0,>=0.2.0 in /Users/tnni/anaconda3/lib/python3.7/site-packages (from spacy>=2.2.0->en_core_web_sm==2.2.0) (0.3.0)\n",
      "Requirement already satisfied: preshed<3.1.0,>=3.0.2 in /Users/tnni/anaconda3/lib/python3.7/site-packages (from spacy>=2.2.0->en_core_web_sm==2.2.0) (3.0.2)\n",
      "Requirement already satisfied: requests<3.0.0,>=2.13.0 in /Users/tnni/anaconda3/lib/python3.7/site-packages (from spacy>=2.2.0->en_core_web_sm==2.2.0) (2.19.1)\n",
      "Requirement already satisfied: blis<0.5.0,>=0.4.0 in /Users/tnni/anaconda3/lib/python3.7/site-packages (from spacy>=2.2.0->en_core_web_sm==2.2.0) (0.4.1)\n",
      "Requirement already satisfied: cymem<2.1.0,>=2.0.2 in /Users/tnni/anaconda3/lib/python3.7/site-packages (from spacy>=2.2.0->en_core_web_sm==2.2.0) (2.0.2)\n",
      "Requirement already satisfied: murmurhash<1.1.0,>=0.28.0 in /Users/tnni/anaconda3/lib/python3.7/site-packages (from spacy>=2.2.0->en_core_web_sm==2.2.0) (1.0.2)\n",
      "Requirement already satisfied: thinc<7.2.0,>=7.1.1 in /Users/tnni/anaconda3/lib/python3.7/site-packages (from spacy>=2.2.0->en_core_web_sm==2.2.0) (7.1.1)\n",
      "Requirement already satisfied: srsly<1.1.0,>=0.1.0 in /Users/tnni/anaconda3/lib/python3.7/site-packages (from spacy>=2.2.0->en_core_web_sm==2.2.0) (0.1.0)\n",
      "Requirement already satisfied: numpy>=1.15.0 in /Users/tnni/anaconda3/lib/python3.7/site-packages (from spacy>=2.2.0->en_core_web_sm==2.2.0) (1.15.1)\n",
      "Requirement already satisfied: chardet<3.1.0,>=3.0.2 in /Users/tnni/anaconda3/lib/python3.7/site-packages (from requests<3.0.0,>=2.13.0->spacy>=2.2.0->en_core_web_sm==2.2.0) (3.0.4)\n",
      "Requirement already satisfied: idna<2.8,>=2.5 in /Users/tnni/anaconda3/lib/python3.7/site-packages (from requests<3.0.0,>=2.13.0->spacy>=2.2.0->en_core_web_sm==2.2.0) (2.7)\n",
      "Requirement already satisfied: urllib3<1.24,>=1.21.1 in /Users/tnni/anaconda3/lib/python3.7/site-packages (from requests<3.0.0,>=2.13.0->spacy>=2.2.0->en_core_web_sm==2.2.0) (1.23)\n",
      "Requirement already satisfied: certifi>=2017.4.17 in /Users/tnni/anaconda3/lib/python3.7/site-packages (from requests<3.0.0,>=2.13.0->spacy>=2.2.0->en_core_web_sm==2.2.0) (2018.8.24)\n",
      "Requirement already satisfied: tqdm<5.0.0,>=4.10.0 in /Users/tnni/anaconda3/lib/python3.7/site-packages (from thinc<7.2.0,>=7.1.1->spacy>=2.2.0->en_core_web_sm==2.2.0) (4.28.1)\n",
      "\u001b[33mWARNING: You are using pip version 19.2.3, however version 19.3.1 is available.\n",
      "You should consider upgrading via the 'pip install --upgrade pip' command.\u001b[0m\n",
      "\u001b[38;5;2m✔ Download and installation successful\u001b[0m\n",
      "You can now load the model via spacy.load('en_core_web_sm')\n",
      "\u001b[38;5;2m✔ Linking successful\u001b[0m\n",
      "/Users/tnni/anaconda3/lib/python3.7/site-packages/en_core_web_sm -->\n",
      "/Users/tnni/anaconda3/lib/python3.7/site-packages/spacy/data/en\n",
      "You can now load the model via spacy.load('en')\n",
      "Requirement already satisfied: de_core_news_sm==2.2.0 from https://github.com/explosion/spacy-models/releases/download/de_core_news_sm-2.2.0/de_core_news_sm-2.2.0.tar.gz#egg=de_core_news_sm==2.2.0 in /Users/tnni/anaconda3/lib/python3.7/site-packages (2.2.0)\n",
      "Requirement already satisfied: spacy>=2.2.0 in /Users/tnni/anaconda3/lib/python3.7/site-packages (from de_core_news_sm==2.2.0) (2.2.1)\n",
      "Requirement already satisfied: requests<3.0.0,>=2.13.0 in /Users/tnni/anaconda3/lib/python3.7/site-packages (from spacy>=2.2.0->de_core_news_sm==2.2.0) (2.19.1)\n",
      "Requirement already satisfied: blis<0.5.0,>=0.4.0 in /Users/tnni/anaconda3/lib/python3.7/site-packages (from spacy>=2.2.0->de_core_news_sm==2.2.0) (0.4.1)\n",
      "Requirement already satisfied: murmurhash<1.1.0,>=0.28.0 in /Users/tnni/anaconda3/lib/python3.7/site-packages (from spacy>=2.2.0->de_core_news_sm==2.2.0) (1.0.2)\n",
      "Requirement already satisfied: plac<1.0.0,>=0.9.6 in /Users/tnni/anaconda3/lib/python3.7/site-packages (from spacy>=2.2.0->de_core_news_sm==2.2.0) (0.9.6)\n",
      "Requirement already satisfied: cymem<2.1.0,>=2.0.2 in /Users/tnni/anaconda3/lib/python3.7/site-packages (from spacy>=2.2.0->de_core_news_sm==2.2.0) (2.0.2)\n",
      "Requirement already satisfied: wasabi<1.1.0,>=0.2.0 in /Users/tnni/anaconda3/lib/python3.7/site-packages (from spacy>=2.2.0->de_core_news_sm==2.2.0) (0.3.0)\n",
      "Requirement already satisfied: thinc<7.2.0,>=7.1.1 in /Users/tnni/anaconda3/lib/python3.7/site-packages (from spacy>=2.2.0->de_core_news_sm==2.2.0) (7.1.1)\n",
      "Requirement already satisfied: srsly<1.1.0,>=0.1.0 in /Users/tnni/anaconda3/lib/python3.7/site-packages (from spacy>=2.2.0->de_core_news_sm==2.2.0) (0.1.0)\n",
      "Requirement already satisfied: numpy>=1.15.0 in /Users/tnni/anaconda3/lib/python3.7/site-packages (from spacy>=2.2.0->de_core_news_sm==2.2.0) (1.15.1)\n",
      "Requirement already satisfied: preshed<3.1.0,>=3.0.2 in /Users/tnni/anaconda3/lib/python3.7/site-packages (from spacy>=2.2.0->de_core_news_sm==2.2.0) (3.0.2)\n",
      "Requirement already satisfied: certifi>=2017.4.17 in /Users/tnni/anaconda3/lib/python3.7/site-packages (from requests<3.0.0,>=2.13.0->spacy>=2.2.0->de_core_news_sm==2.2.0) (2018.8.24)\n",
      "Requirement already satisfied: urllib3<1.24,>=1.21.1 in /Users/tnni/anaconda3/lib/python3.7/site-packages (from requests<3.0.0,>=2.13.0->spacy>=2.2.0->de_core_news_sm==2.2.0) (1.23)\n",
      "Requirement already satisfied: idna<2.8,>=2.5 in /Users/tnni/anaconda3/lib/python3.7/site-packages (from requests<3.0.0,>=2.13.0->spacy>=2.2.0->de_core_news_sm==2.2.0) (2.7)\n",
      "Requirement already satisfied: chardet<3.1.0,>=3.0.2 in /Users/tnni/anaconda3/lib/python3.7/site-packages (from requests<3.0.0,>=2.13.0->spacy>=2.2.0->de_core_news_sm==2.2.0) (3.0.4)\n",
      "Requirement already satisfied: tqdm<5.0.0,>=4.10.0 in /Users/tnni/anaconda3/lib/python3.7/site-packages (from thinc<7.2.0,>=7.1.1->spacy>=2.2.0->de_core_news_sm==2.2.0) (4.28.1)\n",
      "\u001b[33mWARNING: You are using pip version 19.2.3, however version 19.3.1 is available.\n",
      "You should consider upgrading via the 'pip install --upgrade pip' command.\u001b[0m\n",
      "\u001b[38;5;2m✔ Download and installation successful\u001b[0m\n",
      "You can now load the model via spacy.load('de_core_news_sm')\n",
      "\u001b[38;5;2m✔ Linking successful\u001b[0m\n",
      "/Users/tnni/anaconda3/lib/python3.7/site-packages/de_core_news_sm -->\n",
      "/Users/tnni/anaconda3/lib/python3.7/site-packages/spacy/data/de\n",
      "You can now load the model via spacy.load('de')\n"
     ]
    }
   ],
   "source": [
    "import os\n",
    "import math\n",
    "import random\n",
    "import spacy\n",
    "\n",
    "import torch\n",
    "import torch.nn as nn\n",
    "import torch.optim as optim\n",
    "from torch.autograd import Variable\n",
    "import torch.nn.functional as F\n",
    "\n",
    "from torchtext.datasets import Multi30k\n",
    "from torchtext.data import Field, BucketIterator\n",
    "\n",
    "import numpy as np\n",
    "import copy \n",
    "\n",
    "GOOGLE_COLAB = False\n",
    "data_dir = ''\n",
    "\n",
    "!python -m spacy download en\n",
    "!python -m spacy download de\n",
    "\n",
    "# for tokenizing the english sentences\n",
    "spacy_en = spacy.load('en')\n",
    "# for tokenizing the german sentences\n",
    "spacy_de = spacy.load('de')\n",
    "\n",
    "if GOOGLE_COLAB:\n",
    "    !pip install pytorch-nlp\n",
    "    import os\n",
    "    from google.colab import drive\n",
    "    drive.mount('/content/gdrive') \n",
    "    data_dir = '/content/gdrive/My Drive/colab/translation-seq2seq/'\n",
    "    os.listdir(data_dir)     "
   ]
  },
  {
   "cell_type": "markdown",
   "metadata": {
    "colab_type": "text",
    "id": "76jeSezKMZ8N"
   },
   "source": [
    "# Build dataset from Multi30k via TorchText"
   ]
  },
  {
   "cell_type": "code",
   "execution_count": 4,
   "metadata": {
    "colab": {
     "base_uri": "https://localhost:8080/",
     "height": 238
    },
    "colab_type": "code",
    "id": "xCCHcjw_MCpi",
    "outputId": "9b9d27f1-fb18-46e4-b0fb-ab52bd504399"
   },
   "outputs": [
    {
     "name": "stdout",
     "output_type": "stream",
     "text": [
      "Loading Multi30k data...\n",
      "downloading training.tar.gz\n"
     ]
    },
    {
     "name": "stderr",
     "output_type": "stream",
     "text": [
      "training.tar.gz: 100%|██████████| 1.21M/1.21M [00:00<00:00, 3.50MB/s]\n"
     ]
    },
    {
     "name": "stdout",
     "output_type": "stream",
     "text": [
      "downloading validation.tar.gz\n"
     ]
    },
    {
     "name": "stderr",
     "output_type": "stream",
     "text": [
      "validation.tar.gz: 100%|██████████| 46.3k/46.3k [00:00<00:00, 591kB/s]\n"
     ]
    },
    {
     "name": "stdout",
     "output_type": "stream",
     "text": [
      "downloading mmt_task1_test2016.tar.gz\n"
     ]
    },
    {
     "name": "stderr",
     "output_type": "stream",
     "text": [
      "mmt_task1_test2016.tar.gz: 100%|██████████| 66.2k/66.2k [00:00<00:00, 886kB/s]\n"
     ]
    },
    {
     "name": "stdout",
     "output_type": "stream",
     "text": [
      "Finished!\n",
      "Number of training examples: 29000\n",
      "Number of validation examples: 1014\n",
      "Number of testing examples: 1000\n",
      "Example SOURCE sentence: zwei junge weiße männer sind im freien in der nähe vieler büsche .\n",
      "Example TARGET sentence: two young , white males are outside near many bushes .\n"
     ]
    }
   ],
   "source": [
    "def tokenize_de(text):\n",
    "    # tokenizes the german text into a list of strings(tokens) and reverse it\n",
    "    # we are reversing the input sentences, as it is observed \n",
    "    # by reversing the inputs we will get better results\n",
    "    return [tok.text for tok in spacy_de.tokenizer(text)][::-1]     # list[::-1] used to reverse the list\n",
    "\n",
    "\n",
    "def tokenize_en(text):\n",
    "    # tokenizes the english text into a list of strings(tokens)\n",
    "    return [tok.text for tok in spacy_en.tokenizer(text)]\n",
    "\n",
    "# Make language objects\n",
    "SRC_LANG = Field(tokenize=tokenize_de, init_token='<sos>', eos_token='<eos>', lower=True)\n",
    "TAR_LANG = Field(tokenize=tokenize_en, init_token='<sos>', eos_token='<eos>', lower=True)\n",
    "\n",
    "# Load Multi30k dataset\n",
    "print('Loading Multi30k data...')\n",
    "train_data, valid_data, test_data = Multi30k.splits(exts=('.de', '.en'), fields=(SRC_LANG, TAR_LANG))\n",
    "print('Finished!')\n",
    "\n",
    "print(\"Number of training examples:\", len(train_data.examples))\n",
    "print(\"Number of validation examples:\", len(valid_data.examples))\n",
    "print(\"Number of testing examples:\", len(test_data.examples))\n",
    "\n",
    "source_sent_ex = ' '.join(reversed(vars(train_data.examples[0])['src']))\n",
    "target_sent_ex = ' '.join(vars(train_data.examples[0])['trg'])\n",
    "print(\"Example SOURCE sentence:\", source_sent_ex)\n",
    "print(\"Example TARGET sentence:\", target_sent_ex)"
   ]
  },
  {
   "cell_type": "markdown",
   "metadata": {
    "colab_type": "text",
    "id": "VRnXHzNFMc9K"
   },
   "source": [
    "# Build vocab"
   ]
  },
  {
   "cell_type": "code",
   "execution_count": 7,
   "metadata": {
    "colab": {
     "base_uri": "https://localhost:8080/",
     "height": 85
    },
    "colab_type": "code",
    "id": "Ux789LsoMPLa",
    "outputId": "1e9a1bb7-5bbd-4b9a-dafc-fa9867ecc4e5"
   },
   "outputs": [
    {
     "name": "stdout",
     "output_type": "stream",
     "text": [
      "Building vocabulary...\n",
      "Finished!\n",
      "Unique tokens in source (de) vocabulary: 7855\n",
      "Unique tokens in target (en) vocabulary: 5893\n"
     ]
    }
   ],
   "source": [
    "print('Building vocabulary...')\n",
    "SRC_LANG.build_vocab(train_data, min_freq=2) # Only include words occuring at least twice\n",
    "TAR_LANG.build_vocab(train_data, min_freq=2) # Only include words occuring at least twice\n",
    "print('Finished!')\n",
    "\n",
    "print(\"Unique tokens in source (de) vocabulary:\", len(SRC_LANG.vocab))\n",
    "print(\"Unique tokens in target (en) vocabulary:\", len(TAR_LANG.vocab))"
   ]
  },
  {
   "cell_type": "markdown",
   "metadata": {
    "colab_type": "text",
    "id": "nh6XVcCPfm1l"
   },
   "source": [
    "# Set the Batch size and device"
   ]
  },
  {
   "cell_type": "code",
   "execution_count": 8,
   "metadata": {
    "colab": {
     "base_uri": "https://localhost:8080/",
     "height": 34
    },
    "colab_type": "code",
    "id": "7dX-ukEsfm1l",
    "outputId": "fcf32abc-0fce-49f8-bad9-487bbaef07fc"
   },
   "outputs": [
    {
     "name": "stdout",
     "output_type": "stream",
     "text": [
      "Loaded device: cpu\n"
     ]
    }
   ],
   "source": [
    "# use gpu if available, else use cpu\n",
    "device = torch.device('cuda' if torch.cuda.is_available() else 'cpu')\n",
    "print('Loaded device:', device)\n",
    "\n",
    "# create data iterators for the data \n",
    "# padding all the sentences to same length, replacing words by its index,\n",
    "# bucketing (minimizes the amount of padding by grouping similar length sentences)\n",
    "train_iterator, valid_iterator, test_iterator = BucketIterator.splits((train_data, valid_data, test_data), batch_size=32, device=device)"
   ]
  },
  {
   "cell_type": "markdown",
   "metadata": {
    "colab_type": "text",
    "id": "fRiBe73cbaTg"
   },
   "source": [
    "# Transformer Model"
   ]
  },
  {
   "cell_type": "code",
   "execution_count": 14,
   "metadata": {
    "colab": {},
    "colab_type": "code",
    "id": "KGjh1dG_fm1q"
   },
   "outputs": [],
   "source": [
    "# Code base borrowed from https://towardsdatascience.com/how-to-code-the-transformer-in-pytorch-24db27c8f9ec\n",
    "\n",
    "class PositionalEncoder(nn.Module):\n",
    "    def __init__(self, d_model, max_seq_len = 80):\n",
    "        super().__init__()\n",
    "        self.d_model = d_model\n",
    "\n",
    "        pe = torch.zeros(max_seq_len, d_model)\n",
    "        for pos in range(max_seq_len):\n",
    "            for i in range(0, d_model, 2):\n",
    "                pe[pos, i] = math.sin(pos / (10000 ** ((2 * i)/d_model)))\n",
    "                pe[pos, i + 1] = math.cos(pos / (10000 ** ((2 * (i + 1))/d_model)))\n",
    "                \n",
    "        pe = pe.unsqueeze(0)\n",
    "        self.register_buffer('pe', pe)\n",
    " \n",
    "    def forward(self, x):\n",
    "        # make embeddings relatively larger\n",
    "        x = x * math.sqrt(self.d_model)\n",
    "        # add constant to embedding\n",
    "        seq_len = x.size(1)\n",
    "        x = x + Variable(self.pe[:,:seq_len], requires_grad=False).to(device)\n",
    "        return x\n",
    "    \n",
    "class MultiHeadAttention(nn.Module):\n",
    "    def __init__(self, heads, d_model, dropout):\n",
    "        super().__init__()\n",
    "        \n",
    "        self.d_model = d_model\n",
    "        self.d_k = d_model // heads\n",
    "        self.h = heads\n",
    "        \n",
    "        self.q_linear = nn.Linear(d_model, d_model)\n",
    "        self.v_linear = nn.Linear(d_model, d_model)\n",
    "        self.k_linear = nn.Linear(d_model, d_model)\n",
    "        self.dropout = nn.Dropout(dropout)\n",
    "        self.out = nn.Linear(d_model, d_model)\n",
    "    \n",
    "    def forward(self, q, k, v, mask=None):\n",
    "        bs = q.size(0)\n",
    "        \n",
    "        # perform linear operation and split into h heads\n",
    "        k = self.k_linear(k).view(bs, -1, self.h, self.d_k)\n",
    "        q = self.q_linear(q).view(bs, -1, self.h, self.d_k)\n",
    "        v = self.v_linear(v).view(bs, -1, self.h, self.d_k)\n",
    "        \n",
    "        # transpose to get dimensions bs * h * sl * d_model\n",
    "        k = k.transpose(1,2)\n",
    "        q = q.transpose(1,2)\n",
    "        v = v.transpose(1,2)\n",
    "        \n",
    "        # calculate attention using function we will define next\n",
    "        scores = attention(q, k, v, self.d_k, mask, self.dropout)\n",
    "        \n",
    "        # concatenate heads and put through final linear layer\n",
    "        concat = scores.transpose(1,2).contiguous().view(bs, -1, self.d_model)\n",
    "        output = self.out(concat)\n",
    "    \n",
    "        return output\n",
    "    \n",
    "class FeedForward(nn.Module):\n",
    "    def __init__(self, d_model, d_ff, dropout):\n",
    "        super().__init__() \n",
    "        # We set d_ff as a default to 256\n",
    "        self.linear_1 = nn.Linear(d_model, d_ff)\n",
    "        self.dropout = nn.Dropout(dropout)\n",
    "        self.linear_2 = nn.Linear(d_ff, d_model)\n",
    "    def forward(self, x):\n",
    "        x = self.dropout(F.relu(self.linear_1(x)))\n",
    "        x = self.linear_2(x)\n",
    "        return x\n",
    "    \n",
    "class Norm(nn.Module):\n",
    "    def __init__(self, d_model, eps = 1e-6):\n",
    "        super().__init__()\n",
    "    \n",
    "        self.size = d_model\n",
    "        # create two learnable parameters to calibrate normalisation\n",
    "        self.alpha = nn.Parameter(torch.ones(self.size))\n",
    "        self.bias = nn.Parameter(torch.zeros(self.size))\n",
    "        self.eps = eps\n",
    "    def forward(self, x):\n",
    "        norm = self.alpha * (x - x.mean(dim=-1, keepdim=True)) / (x.std(dim=-1, keepdim=True) + self.eps) + self.bias\n",
    "        return norm\n",
    "    \n",
    "# EncoderLayer with one multi-head attention layer for the input \n",
    "class EncoderLayer(nn.Module):\n",
    "    def __init__(self, d_model, d_ff, heads, dropout):\n",
    "        super().__init__()\n",
    "        self.norm_1 = Norm(d_model)\n",
    "        self.norm_2 = Norm(d_model)\n",
    "        self.attn = MultiHeadAttention(heads, d_model, dropout)\n",
    "        self.ff = FeedForward(d_model, d_ff, dropout)\n",
    "        self.dropout_1 = nn.Dropout(dropout)\n",
    "        self.dropout_2 = nn.Dropout(dropout)\n",
    "        \n",
    "    def forward(self, x, mask):\n",
    "        x2 = self.norm_1(x)\n",
    "        x = x + self.dropout_1(self.attn(x2,x2,x2,mask))\n",
    "        x2 = self.norm_2(x)\n",
    "        x = x + self.dropout_2(self.ff(x2))\n",
    "        return x\n",
    "\n",
    "# DecoderLayer: Use two Multihead-attention layers to decode output\n",
    "class DecoderLayer(nn.Module):\n",
    "    def __init__(self, d_model, d_ff, heads, dropout):\n",
    "        super().__init__()\n",
    "        self.norm_1 = Norm(d_model)\n",
    "        self.norm_2 = Norm(d_model)\n",
    "        self.norm_3 = Norm(d_model)\n",
    "        \n",
    "        self.dropout_1 = nn.Dropout(dropout)\n",
    "        self.dropout_2 = nn.Dropout(dropout)\n",
    "        self.dropout_3 = nn.Dropout(dropout)\n",
    "        \n",
    "        self.attn_1 = MultiHeadAttention(heads, d_model, dropout)\n",
    "        self.attn_2 = MultiHeadAttention(heads, d_model, dropout)\n",
    "        self.ff = FeedForward(d_model, d_ff, dropout).to(device)\n",
    "    \n",
    "    def forward(self, x, e_outputs, src_mask, trg_mask):\n",
    "            x2 = self.norm_1(x)\n",
    "            x = x + self.dropout_1(self.attn_1(x2, x2, x2, trg_mask))\n",
    "            x2 = self.norm_2(x)\n",
    "            x = x + self.dropout_2(self.attn_2(x2, e_outputs, e_outputs,\n",
    "            src_mask))\n",
    "            x2 = self.norm_3(x)\n",
    "            x = x + self.dropout_3(self.ff(x2))\n",
    "            return x\n",
    "\n",
    "\n",
    "\n",
    "def attention(q, k, v, d_k, mask=None, dropout=None):\n",
    "    scores = torch.matmul(q, k.transpose(-2, -1)) /  math.sqrt(d_k)\n",
    "    if mask is not None:\n",
    "            mask = mask.unsqueeze(1)\n",
    "            scores = scores.masked_fill(mask == 0, -1e9)\n",
    "    scores = F.softmax(scores, dim=-1)\n",
    "    \n",
    "    if dropout is not None:\n",
    "        scores = dropout(scores)\n",
    "        \n",
    "    output = torch.matmul(scores, v)\n",
    "    return output\n",
    "\n",
    "\n",
    "def create_masks(input_seq, target_seq):\n",
    "    input_pad = SRC_LANG.vocab.stoi['<pad>']\n",
    "    # creates mask with 0s wherever there is padding in the input\n",
    "    input_msk = (input_seq != input_pad).unsqueeze(1)\n",
    "    \n",
    "    # create mask as before\n",
    "    target_pad = TAR_LANG.vocab.stoi['<pad>']\n",
    "    target_msk = (target_seq != target_pad).byte().unsqueeze(1)\n",
    "    size = target_seq.size(1) # get seq_len for matrix\n",
    "    nopeak_mask = np.triu(np.ones((1, size, size)), k=1).astype('uint8')\n",
    "    nopeak_mask = Variable(torch.from_numpy(nopeak_mask) == 0).byte().to(device)\n",
    "    target_msk = target_msk & nopeak_mask\n",
    "    \n",
    "    return input_msk, target_msk\n",
    "\n",
    "# We can then build a convenient cloning function that can generate multiple layers:\n",
    "def get_clones(module, N):\n",
    "    return nn.ModuleList([copy.deepcopy(module) for i in range(N)])\n",
    "\n",
    "# Embedder\n",
    "class Embedder(nn.Module):\n",
    "    def __init__(self, vocab_size, d_model):\n",
    "        super().__init__()\n",
    "        self.embed = nn.Embedding(vocab_size, d_model)\n",
    "    def forward(self, x):\n",
    "        return self.embed(x)\n",
    "\n",
    "\n",
    "# Encoder: Embeds and encodes the input sentence\n",
    "class Encoder(nn.Module):\n",
    "    def __init__(self, vocab_size, d_model, d_ff, N, heads, dropout):\n",
    "        super().__init__()\n",
    "        self.N = N\n",
    "        self.embed = Embedder(vocab_size, d_model)\n",
    "        self.pe = PositionalEncoder(d_model)\n",
    "        self.layers = get_clones(EncoderLayer(d_model, d_ff, heads, dropout), N)\n",
    "        self.norm = Norm(d_model)\n",
    "    def forward(self, src, mask):\n",
    "        x = self.embed(src)\n",
    "        x = self.pe(x)\n",
    "        for i in range(N):\n",
    "            x = self.layers[i](x, mask)\n",
    "        return self.norm(x)\n",
    "    \n",
    "# Decoder: Compares the encoded inputs and the outputs via multihead-attention\n",
    "class Decoder(nn.Module):\n",
    "    def __init__(self, vocab_size, d_model, d_ff, N, heads, dropout):\n",
    "        super().__init__()\n",
    "        self.N = N\n",
    "        self.embed = Embedder(vocab_size, d_model)\n",
    "        self.pe = PositionalEncoder(d_model)\n",
    "        self.layers = get_clones(DecoderLayer(d_model, d_ff, heads, dropout), N)\n",
    "        self.norm = Norm(d_model)\n",
    "    def forward(self, trg, e_outputs, src_mask, trg_mask):\n",
    "        x = self.embed(trg)\n",
    "        x = self.pe(x)\n",
    "        for i in range(self.N):\n",
    "            x = self.layers[i](x, e_outputs, src_mask, trg_mask)\n",
    "        return self.norm(x)\n",
    "\n",
    "# Transformer, puts the encoder and decoder module together\n",
    "class Transformer(nn.Module):\n",
    "    def __init__(self, src_vocab, trg_vocab, d_model, d_ff, N, heads, dropout):\n",
    "        super().__init__()\n",
    "        self.encoder = Encoder(src_vocab, d_model, d_ff, N, heads, dropout)\n",
    "        self.decoder = Decoder(trg_vocab, d_model, d_ff, N, heads, dropout)\n",
    "        self.out = nn.Linear(d_model, trg_vocab)\n",
    "    def forward(self, src, trg, src_mask, trg_mask):\n",
    "        e_outputs = self.encoder(src, src_mask)\n",
    "        d_output = self.decoder(trg, e_outputs, src_mask, trg_mask)\n",
    "        output = self.out(d_output)\n",
    "        return output"
   ]
  },
  {
   "cell_type": "markdown",
   "metadata": {
    "colab_type": "text",
    "id": "mpbWiCoYfm1u"
   },
   "source": [
    "# Evaluate Function"
   ]
  },
  {
   "cell_type": "code",
   "execution_count": 10,
   "metadata": {
    "colab": {},
    "colab_type": "code",
    "id": "BgNB-Jwrfm1u"
   },
   "outputs": [],
   "source": [
    "def evaluate(model, iterator):\n",
    "    ''' \n",
    "    Evaluation loop for the model to evaluate.\n",
    "    Args:\n",
    "        model: A Seq2Seq model instance.\n",
    "        iterator: A DataIterator to read the data.\n",
    "        criterion: loss criterion.\n",
    "    Returns:\n",
    "        epoch_loss: Average loss for the validation set.\n",
    "    '''\n",
    "    #  some layers have different behavior during train/and evaluation (like BatchNorm, Dropout) so setting it matters.\n",
    "    model.eval()\n",
    "    # loss\n",
    "    epoch_loss = 0\n",
    "\n",
    "    # no_grad() ensures parameters arent optimized (this would be cheating)\n",
    "    with torch.no_grad():\n",
    "        for i, batch in enumerate(iterator):\n",
    "            src = batch.src.transpose(0,1)\n",
    "            trg = batch.trg.transpose(0,1)\n",
    "            trg_input = trg[:, :-1]\n",
    "            src_mask, trg_mask = create_masks(src, trg_input)\n",
    "            \n",
    "            # Forward pass\n",
    "            preds = model(src, trg_input, src_mask, trg_mask)\n",
    "            \n",
    "            # Calculate loss\n",
    "            preds_ = preds.view(-1, preds.size(-1))\n",
    "            targets = trg[:, 1:].contiguous().view(-1)\n",
    "            loss = criterion(preds_, targets)\n",
    "            \n",
    "            epoch_loss += loss.item()\n",
    "    return epoch_loss / len(iterator)"
   ]
  },
  {
   "cell_type": "markdown",
   "metadata": {
    "colab_type": "text",
    "id": "Fbb40qEIfm1w"
   },
   "source": [
    "# Train function"
   ]
  },
  {
   "cell_type": "code",
   "execution_count": 11,
   "metadata": {
    "colab": {},
    "colab_type": "code",
    "id": "8Zuz_tjLfm1x"
   },
   "outputs": [],
   "source": [
    "def train_one_epoch(iterator, print_every=100):\n",
    "    ''' \n",
    "    Training loop which runs one epoch.\n",
    "    Args:\n",
    "        None\n",
    "    Returns:\n",
    "        epoch_loss: Average loss of the epoch.\n",
    "    '''\n",
    "    # Toggle train mode to adjust params\n",
    "    model.train()\n",
    "    epoch_loss = 0\n",
    "    \n",
    "    for i, batch in enumerate(iterator):\n",
    "        # Prepare batch\n",
    "        src = batch.src.transpose(0,1)\n",
    "        trg = batch.trg.transpose(0,1)\n",
    "        trg_input = trg[:, :-1]\n",
    "        src_mask, trg_mask = create_masks(src, trg_input)\n",
    "\n",
    "        # Forward pass\n",
    "        preds = model(src, trg_input, src_mask, trg_mask)\n",
    "\n",
    "        # Perform backprop\n",
    "        optim.zero_grad()\n",
    "        preds_ = preds.view(-1, preds.size(-1))\n",
    "        targets = trg[:, 1:].contiguous().view(-1)\n",
    "        loss = criterion(preds_, targets)\n",
    "        loss.backward()\n",
    "        optim.step()\n",
    "        \n",
    "        # Save loss for epoch\n",
    "        epoch_loss += loss.item()\n",
    "            \n",
    "    return epoch_loss / len(iterator)"
   ]
  },
  {
   "cell_type": "markdown",
   "metadata": {
    "colab_type": "text",
    "id": "LhF0BbIE3ZyG"
   },
   "source": [
    "# Util functions"
   ]
  },
  {
   "cell_type": "code",
   "execution_count": 12,
   "metadata": {
    "colab": {},
    "colab_type": "code",
    "id": "5n_61cM-xd4p"
   },
   "outputs": [],
   "source": [
    "import time\n",
    "import pickle\n",
    "from datetime import datetime\n",
    "\n",
    "def get_timestamp_str():\n",
    "    dateTimeObj = datetime.now()\n",
    "    return str(dateTimeObj).replace(' ', '_')\n",
    "\n",
    "def init_params(m):\n",
    "    # Initialize params\n",
    "    for p in m.parameters():\n",
    "        if p.dim() > 1:\n",
    "            nn.init.xavier_uniform_(p)\n",
    "\n",
    "def count_parameters(model):\n",
    "    '''Count the number of parameters in a PyTorch model'''\n",
    "    return sum(p.numel() for p in model.parameters() if p.requires_grad)\n"
   ]
  },
  {
   "cell_type": "markdown",
   "metadata": {
    "colab_type": "text",
    "id": "KPx_a0chmDPu"
   },
   "source": [
    "## Set up Transformers"
   ]
  },
  {
   "cell_type": "code",
   "execution_count": 15,
   "metadata": {
    "colab": {
     "base_uri": "https://localhost:8080/",
     "height": 51
    },
    "colab_type": "code",
    "id": "0YqXdwnhfm13",
    "outputId": "bff0cfa7-0bb5-402a-9ce3-7546880a5dba"
   },
   "outputs": [
    {
     "name": "stdout",
     "output_type": "stream",
     "text": [
      "num params (512): 35.309829 M\n",
      "num params (2048): 54.202629 M\n"
     ]
    }
   ],
   "source": [
    "# Static hyper params\n",
    "src_vocab = len(SRC_LANG.vocab)\n",
    "trg_vocab = len(TAR_LANG.vocab)\n",
    "heads = 8\n",
    "N = 6\n",
    "dropout = 0.1\n",
    "lr=0.0001\n",
    "betas=(0.9, 0.98)\n",
    "eps=1e-9\n",
    "criterion = nn.CrossEntropyLoss(ignore_index=TAR_LANG.vocab.stoi['<pad>'])\n",
    "\n",
    "# Init model with feedforward dim 512\n",
    "transformer_512 = Transformer(src_vocab, trg_vocab, 512, 512, N, heads, dropout).to(device)\n",
    "print('num params (512):', count_parameters(transformer_512) / 1e6, 'M')\n",
    "\n",
    "# Init model with feedforward size 2048\n",
    "transformer_2048 = Transformer(src_vocab, trg_vocab, 512, 2048, N, heads, dropout).to(device)\n",
    "print('num params (2048):', count_parameters(transformer_2048) / 1e6, 'M')"
   ]
  },
  {
   "cell_type": "markdown",
   "metadata": {
    "colab_type": "text",
    "id": "Z4u9IlKqhlJT"
   },
   "source": [
    "# Train/Load Model"
   ]
  },
  {
   "cell_type": "code",
   "execution_count": null,
   "metadata": {
    "colab": {},
    "colab_type": "code",
    "id": "q6I3LS88fm2A"
   },
   "outputs": [],
   "source": [
    "TRAIN = False\n",
    "\n",
    "# Set model to train\n",
    "model = transformer_2048\n",
    "\n",
    "if TRAIN:\n",
    "    # Set save path\n",
    "    MODEL_SAVE_PATH = data_dir + 'transformer-model_' + get_timestamp_str() + '.pt'\n",
    "    LOSSES_SAVE_PATH = data_dir + 'losses_' + get_timestamp_str() + '.pickle'\n",
    "    print('saving to:', MODEL_SAVE_PATH, LOSSES_SAVE_PATH)\n",
    "    val_losses = []\n",
    "    train_losses = []\n",
    "    best_val_loss = np.infty\n",
    "\n",
    "    # Save model as it is \n",
    "    torch.save(model.state_dict(), MODEL_SAVE_PATH)\n",
    "    pickle.dump((train_losses, val_losses), open(LOSSES_SAVE_PATH, 'wb'))\n",
    "\n",
    "    # Set optimizer\n",
    "    optim = torch.optim.Adam(model.parameters(), lr=lr, betas=betas, eps=eps)\n",
    "\n",
    "    for epoch in range(50):\n",
    "        start_time = time.time()\n",
    "        # Run one epoch\n",
    "        train_loss = train_one_epoch(train_iterator)\n",
    "        \n",
    "        # Evaluate \n",
    "        val_loss = evaluate(model, valid_iterator)\n",
    "        elapsed_time = time.time() - start_time\n",
    "        print('Epoch [%i] finished after [%i] seconds, val loss: [%.3f]' % \n",
    "            (epoch+1, elapsed_time, val_loss))\n",
    "        \n",
    "        # Save losses\n",
    "        train_losses.append(train_loss)\n",
    "        val_losses.append(val_loss)\n",
    "        pickle.dump((train_losses, val_losses), open(LOSSES_SAVE_PATH, 'wb'))\n",
    "        \n",
    "        # If generalization error improved then save the model to disk\n",
    "        if val_loss < best_val_loss:\n",
    "            best_val_loss = val_loss\n",
    "            torch.save(model.state_dict(), MODEL_SAVE_PATH)\n",
    "\n",
    "else:\n",
    "    # load the parameters(state_dict) that gave the best validation loss and run the model to test.\n",
    "    transformer_512.load_state_dict(torch.load(data_dir + 'transformer_512.pt'))\n",
    "    transformer_2048.load_state_dict(torch.load(data_dir + 'transformer_2048.pt'))"
   ]
  },
  {
   "cell_type": "markdown",
   "metadata": {
    "colab_type": "text",
    "id": "exHMHy135NmU"
   },
   "source": [
    "# Evaluate loaded models on test set"
   ]
  },
  {
   "cell_type": "code",
   "execution_count": 78,
   "metadata": {
    "colab": {
     "base_uri": "https://localhost:8080/",
     "height": 51
    },
    "colab_type": "code",
    "id": "cREGGR-x5LfF",
    "outputId": "a726ee03-b10e-4fb5-aa4e-a5c12f06903a"
   },
   "outputs": [
    {
     "name": "stdout",
     "output_type": "stream",
     "text": [
      "Loss (2048) 1.7025254406034946\n",
      "Loss (512) 1.7662790305912495\n"
     ]
    }
   ],
   "source": [
    "loss_2048 = evaluate(transformer_2048, test_iterator_32)\n",
    "loss_512 = evaluate(transformer_512, test_iterator_32)\n",
    "\n",
    "print('Loss (2048)', loss_2048)\n",
    "print('Loss (512)', loss_512)"
   ]
  },
  {
   "cell_type": "markdown",
   "metadata": {
    "colab_type": "text",
    "id": "ONDoNZrIhyd2"
   },
   "source": [
    "# Plot Losses"
   ]
  },
  {
   "cell_type": "code",
   "execution_count": null,
   "metadata": {
    "colab": {},
    "colab_type": "code",
    "id": "24OJ9Pvl7iUa"
   },
   "outputs": [],
   "source": [
    "import matplotlib.pyplot as plt\n",
    "import pickle\n",
    "import matplotlib\n",
    "font = {'size'   : 22, }\n",
    "matplotlib.rc('font', **font)\n",
    "\n",
    "def plot_losses(filepath, title='Training error'):\n",
    "    modelname = filepath.split('.')[0]\n",
    "    train_loss, val_loss = pickle.load(open(filepath, 'rb'))\n",
    "    \n",
    "    plt.figure(figsize=[20,10])\n",
    "    plt.xlabel('Epoch')\n",
    "    plt.ylabel('CE Loss')\n",
    "    plt.title(title)\n",
    "    plt.plot(train_loss, linewidth=5)\n",
    "    plt.plot(val_loss, linewidth=5)\n",
    "    plt.legend(['train', 'val'])\n",
    "    plt.savefig(modelname + '.png')\n",
    "    plt.show()\n",
    "    \n",
    "    print('min val loss:', min(val_loss))"
   ]
  },
  {
   "cell_type": "code",
   "execution_count": 15,
   "metadata": {
    "colab": {
     "base_uri": "https://localhost:8080/",
     "height": 669
    },
    "colab_type": "code",
    "id": "o3UFrGMO7zT2",
    "outputId": "c3fc5884-293c-46a3-8de3-31487dd9b11d"
   },
   "outputs": [
    {
     "data": {
      "image/png": "[encoded data removed]",
      "text/plain": [
       "<Figure size 1440x720 with 1 Axes>"
      ]
     },
     "metadata": {
      "tags": []
     },
     "output_type": "display_data"
    },
    {
     "name": "stdout",
     "output_type": "stream",
     "text": [
      "min val loss: 1.7575501799583435\n"
     ]
    }
   ],
   "source": [
    "plot_losses(data_dir + 'losses_transformer_512.pickle')"
   ]
  },
  {
   "cell_type": "code",
   "execution_count": 16,
   "metadata": {
    "colab": {
     "base_uri": "https://localhost:8080/",
     "height": 669
    },
    "colab_type": "code",
    "id": "4V-lpKWV1PcG",
    "outputId": "5ab36ada-1905-4f15-d9cc-61822769d01f"
   },
   "outputs": [
    {
     "data": {
      "image/png": "[encoded data removed]",
      "text/plain": [
       "<Figure size 1440x720 with 1 Axes>"
      ]
     },
     "metadata": {
      "tags": []
     },
     "output_type": "display_data"
    },
    {
     "name": "stdout",
     "output_type": "stream",
     "text": [
      "min val loss: 1.618977401405573\n"
     ]
    }
   ],
   "source": [
    "plot_losses(data_dir + 'losses_transformer_2048.pickle')"
   ]
  },
  {
   "cell_type": "markdown",
   "metadata": {
    "colab_type": "text",
    "id": "kgWGi1nnfm2P"
   },
   "source": [
    "# BLEU Scoring\n",
    "Use validation set for BLEU scoring"
   ]
  },
  {
   "cell_type": "code",
   "execution_count": null,
   "metadata": {
    "colab": {},
    "colab_type": "code",
    "id": "sgrGxDB0fm2Q"
   },
   "outputs": [],
   "source": [
    "def flatten_batch_iterator(iterator):\n",
    "    'Flattens a batch iterator to a list'\n",
    "    flat = []\n",
    "    for batch in iterator:\n",
    "        flat += [row for row in batch]\n",
    "    return flat\n",
    "\n",
    "def find_pair(LANG, id_array, txt, ids):\n",
    "    x = remove_tags(LANG, id_array)\n",
    "    i = ids.index(x)\n",
    "    return txt[i]\n",
    "\n",
    "def tokens_to_tensor(LANG, tokens, reverse=False):\n",
    "    idx = [LANG.vocab.stoi[t] for t in tokens]\n",
    "    if reverse: idx = list(reversed(idx))\n",
    "    return idx\n",
    "\n",
    "def remove_tags(LANG, idx):\n",
    "    ignore = [LANG.vocab.stoi['<pad>'], LANG.vocab.stoi['<sos>'], LANG.vocab.stoi['<eos>']]\n",
    "    return [i for i in idx if i not in ignore]\n",
    "\n",
    "def tensor_to_tokens(LANG, tensor, reverse=False):\n",
    "    tensor = remove_tags(LANG, tensor)\n",
    "    tokens = [LANG.vocab.itos[x] for x in tensor]\n",
    "    tokens = list(reversed(tokens)) if reverse else tokens\n",
    "    return tokens"
   ]
  },
  {
   "cell_type": "code",
   "execution_count": null,
   "metadata": {
    "colab": {},
    "colab_type": "code",
    "id": "Kcjl_K7Dkasr"
   },
   "outputs": [],
   "source": [
    "# Count number of sentences in test set\n",
    "n_test = len(test_data.examples)\n",
    "\n",
    "# extract the text sentences from the test set\n",
    "test_src_txt = [test_data.examples[i].src for i in range(n_test)]\n",
    "test_trg_txt = [test_data.examples[i].trg for i in range(n_test)]\n",
    "\n",
    "# extract the word-index sentences from the test set\n",
    "test_src_idx = [tokens_to_tensor(SRC_LANG, test_src_txt[i]) for i in range(n_test)]\n",
    "test_trg_idx = [tokens_to_tensor(TAR_LANG, test_trg_txt[i]) for i in range(n_test)]"
   ]
  },
  {
   "cell_type": "code",
   "execution_count": null,
   "metadata": {
    "colab": {},
    "colab_type": "code",
    "id": "2lbWAxg2kYxo"
   },
   "outputs": [],
   "source": [
    "def get_pred_tar_pairs(model, iterator):\n",
    "    'predict on batches and finds the untouched txt sentence which matches the target.'\n",
    "    # Extract srcs, tars and preds\n",
    "    TARS = []\n",
    "    PREDS = []\n",
    "    SRCS = []\n",
    "            \n",
    "    with torch.no_grad():\n",
    "        for batch in iterator:  \n",
    "            src = batch.src.transpose(0,1)\n",
    "            trg = batch.trg.transpose(0,1)\n",
    "            trg_input = trg[:, :-1]\n",
    "            src_mask, trg_mask = create_masks(src, trg_input)\n",
    "\n",
    "            # Forward pass\n",
    "            output = model(src, trg_input, src_mask, trg_mask)\n",
    "            \n",
    "            # Argmax over vocab and get the predicted tokens\n",
    "            pred = output.argmax(dim=2)\n",
    "\n",
    "            for x in src:\n",
    "                src_txt = find_pair(SRC_LANG, x.tolist(), test_src_txt, test_src_idx)\n",
    "                SRCS.append(src_txt)\n",
    "        \n",
    "            for x in pred:\n",
    "                # Convert predicted token to tensor\n",
    "                pred_tokens = tensor_to_tokens(TAR_LANG, x)\n",
    "                PREDS.append(pred_tokens)\n",
    "            \n",
    "            for x in trg:\n",
    "                # Find the untouched sentence in the test set\n",
    "                x = x.tolist()\n",
    "                tar_tokens = find_pair(TAR_LANG, x, test_trg_txt, test_trg_idx)\n",
    "                TARS.append(tar_tokens)\n",
    "    \n",
    "    return SRCS, PREDS, TARS\n",
    "\n",
    "from torchnlp.metrics import get_moses_multi_bleu\n",
    "def bleu(tar, pred): \n",
    "    'Calculates moses bleu given two arrays of str tokens'\n",
    "    tar, pred = ' '.join(tar), ' '.join(pred)\n",
    "    return get_moses_multi_bleu([tar], [pred])\n",
    "\n",
    "def bleu_scoring(model, valid_iter):\n",
    "    print('Predicting on batches...')\n",
    "    srcs, preds, tars = get_pred_tar_pairs(model, valid_iter)\n",
    "\n",
    "    print('Computing bleus')\n",
    "    bleu_scores = np.array([bleu(tar, pred) for pred, tar in zip(preds, tars)])\n",
    "    bleu_scores = bleu_scores[bleu_scores != None] # Filter out division by 0 errors\n",
    "\n",
    "    mean_bleu = bleu_scores.mean()\n",
    "    print('-'*50)\n",
    "    print('Mean validation BLEU:', mean_bleu)\n",
    "    print('-'*50)\n",
    "\n",
    "    for source, target, predicted in list(zip(srcs, tars, preds))[:10]:\n",
    "        print('Original (de):', ' '.join(reversed(source)))\n",
    "        print('Target (eng):', ' '.join(target))\n",
    "        print('Predicted (eng):', ' '.join(predicted))\n",
    "        print(' ')\n",
    "\n",
    "    return srcs, preds, tars, bleu_scores, mean_bleu"
   ]
  },
  {
   "cell_type": "code",
   "execution_count": 93,
   "metadata": {
    "colab": {
     "base_uri": "https://localhost:8080/",
     "height": 816
    },
    "colab_type": "code",
    "id": "Aaofc-LPycad",
    "outputId": "7e706f37-eead-488a-9403-73e8c8f76533"
   },
   "outputs": [
    {
     "name": "stdout",
     "output_type": "stream",
     "text": [
      "Predicting on batches...\n",
      "Computing bleus\n"
     ]
    },
    {
     "name": "stderr",
     "output_type": "stream",
     "text": [
      "multi-bleu.perl script returned non-zero exit code\n",
      "b'\\ngzip: /tmp/tmpwjpm9lgz: not in gzip format\\nERROR: could not find reference file /tmp/tmpwjpm9lgz at /tmp/tmpo3s1avrj line 32.\\n'\n"
     ]
    },
    {
     "name": "stdout",
     "output_type": "stream",
     "text": [
      "--------------------------------------------------\n",
      "Mean validation BLEU: 27.575256\n",
      "--------------------------------------------------\n",
      "Original (de): arbeiter diskutieren neben den schienen .\n",
      "Target (eng): construction workers having a discussion by the tracks .\n",
      "Predicted (eng): workers workers are work discussion next the railroad .\n",
      " \n",
      "Original (de): zwei jungen spielen gegeneinander fußball .\n",
      "Target (eng): two boys play soccer against each other .\n",
      "Predicted (eng): two boys are soccer together each other .\n",
      " \n",
      "Original (de): zwei fußballmannschaften auf dem feld .\n",
      "Target (eng): two soccer teams are on the field .\n",
      "Predicted (eng): two football players are on field field .\n",
      " \n",
      "Original (de): ein hellbrauner hund läuft bergauf .\n",
      "Target (eng): a light brown dog is running up .\n",
      "Predicted (eng): a tan tan dog runs running between a\n",
      " \n",
      "Original (de): leute bewundern ein kunstwerk .\n",
      "Target (eng): people are admiring a work of art .\n",
      "Predicted (eng): people watch admiring art piece . art .\n",
      " \n",
      "Original (de): ein junge steht mit drei mädchen .\n",
      "Target (eng): a boy stands with three girls .\n",
      "Predicted (eng): a young is with three girls .\n",
      " \n",
      "Original (de): zwei männer sitzen in einem restaurant .\n",
      "Target (eng): two men sitting in a restaurant .\n",
      "Predicted (eng): two men sit in a restaurant .\n",
      " \n",
      "Original (de): zwei typen und eine frau lächeln .\n",
      "Target (eng): two guys and a girl smiling .\n",
      "Predicted (eng): two guys and one woman are .\n",
      " \n",
      "Original (de): zwei kleine kinder auf dem sand .\n",
      "Target (eng): two young children are on sand .\n",
      "Predicted (eng): two small children are on the .\n",
      " \n",
      "Original (de): ein kleiner schwarzer hund springt über gatter\n",
      "Target (eng): a small black dog jumping over gates\n",
      "Predicted (eng): a small black dog jumps over a . . .\n",
      " \n"
     ]
    }
   ],
   "source": [
    "srcs, preds, tars, bleu_scores, mean_bleu = bleu_scoring(transformer_512, test_iterator_32)"
   ]
  },
  {
   "cell_type": "code",
   "execution_count": 91,
   "metadata": {
    "colab": {
     "base_uri": "https://localhost:8080/",
     "height": 799
    },
    "colab_type": "code",
    "id": "aR00XQ8xyomb",
    "outputId": "9c02f3d2-bc0c-4269-b457-bec7b4c96504"
   },
   "outputs": [
    {
     "name": "stdout",
     "output_type": "stream",
     "text": [
      "Predicting on batches...\n",
      "Computing bleus\n"
     ]
    },
    {
     "name": "stderr",
     "output_type": "stream",
     "text": [
      "Unable to fetch multi-bleu.perl script\n"
     ]
    },
    {
     "name": "stdout",
     "output_type": "stream",
     "text": [
      "--------------------------------------------------\n",
      "Mean validation BLEU: 29.28604\n",
      "--------------------------------------------------\n",
      "Original (de): arbeiter diskutieren neben den schienen .\n",
      "Target (eng): workers workers are a discussion next the under .\n",
      "Predicted (eng): construction workers having a discussion by the tracks .\n",
      " \n",
      "Original (de): zwei jungen spielen gegeneinander fußball .\n",
      "Target (eng): two boys are soccer with each other .\n",
      "Predicted (eng): two boys play soccer against each other .\n",
      " \n",
      "Original (de): zwei fußballmannschaften auf dem feld .\n",
      "Target (eng): two soccer players are running the field .\n",
      "Predicted (eng): two soccer teams are on the field .\n",
      " \n",
      "Original (de): ein hellbrauner hund läuft bergauf .\n",
      "Target (eng): a tan brown dog is running with some\n",
      "Predicted (eng): a light brown dog is running up .\n",
      " \n",
      "Original (de): leute bewundern ein kunstwerk .\n",
      "Target (eng): people are making a piece piece art .\n",
      "Predicted (eng): people are admiring a work of art .\n",
      " \n",
      "Original (de): ein junge steht mit drei mädchen .\n",
      "Target (eng): a boy is with three girls .\n",
      "Predicted (eng): a boy stands with three girls .\n",
      " \n",
      "Original (de): zwei männer sitzen in einem restaurant .\n",
      "Target (eng): two men sitting in a restaurant .\n",
      "Predicted (eng): two men sitting in a restaurant .\n",
      " \n",
      "Original (de): zwei typen und eine frau lächeln .\n",
      "Target (eng): two guys and one woman smiling .\n",
      "Predicted (eng): two guys and a girl smiling .\n",
      " \n",
      "Original (de): zwei kleine kinder auf dem sand .\n",
      "Target (eng): two young children are sand the .\n",
      "Predicted (eng): two young children are on sand .\n",
      " \n",
      "Original (de): ein kleiner schwarzer hund springt über gatter\n",
      "Target (eng): a small black dog jumps over a\n",
      "Predicted (eng): a small black dog jumping over gates\n",
      " \n"
     ]
    }
   ],
   "source": [
    "srcs, preds, tars, bleu_scores, mean_bleu = bleu_scoring(transformer_2048, test_iterator_32)"
   ]
  },
  {
   "cell_type": "code",
   "execution_count": null,
   "metadata": {
    "colab": {},
    "colab_type": "code",
    "id": "NiD1A-hfqhCb"
   },
   "outputs": [],
   "source": []
  }
 ],
 "metadata": {
  "accelerator": "GPU",
  "colab": {
   "collapsed_sections": [],
   "name": "02456-transformer-translation.ipynb",
   "provenance": []
  },
  "kernelspec": {
   "display_name": "Python 3",
   "language": "python",
   "name": "python3"
  },
  "language_info": {
   "codemirror_mode": {
    "name": "ipython",
    "version": 3
   },
   "file_extension": ".py",
   "mimetype": "text/x-python",
   "name": "python",
   "nbconvert_exporter": "python",
   "pygments_lexer": "ipython3",
   "version": "3.7.0"
  }
 },
 "nbformat": 4,
 "nbformat_minor": 2
}
