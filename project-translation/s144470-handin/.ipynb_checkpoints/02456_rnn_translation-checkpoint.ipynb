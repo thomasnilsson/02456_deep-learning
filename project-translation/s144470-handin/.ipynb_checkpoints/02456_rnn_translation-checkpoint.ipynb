{
  "nbformat": 4,
  "nbformat_minor": 0,
  "metadata": {
    "accelerator": "GPU",
    "colab": {
      "name": "02456-rnn-translation.ipynb",
      "provenance": [],
      "collapsed_sections": []
    },
    "kernelspec": {
      "name": "python3",
      "display_name": "Python 3"
    },
    "language_info": {
      "codemirror_mode": {
        "name": "ipython",
        "version": 3
      },
      "file_extension": ".py",
      "mimetype": "text/x-python",
      "name": "python",
      "nbconvert_exporter": "python",
      "pygments_lexer": "ipython3",
      "version": "3.7.0"
    }
  },
  "cells": [
    {
      "cell_type": "code",
      "metadata": {
        "colab_type": "code",
        "id": "8ePg-a3ALIUf",
        "outputId": "318ee9da-a9d3-4f0c-803b-7a2a9103703b",
        "colab": {
          "base_uri": "https://localhost:8080/",
          "height": 411
        }
      },
      "source": [
        "import os\n",
        "import math\n",
        "import random\n",
        "import spacy\n",
        "\n",
        "!python -m spacy download en\n",
        "!python -m spacy download de\n",
        "!pip install pytorch-nlp\n",
        "\n",
        "import torch\n",
        "import torch.nn as nn\n",
        "import torch.optim as optim\n",
        "\n",
        "from torchtext.datasets import Multi30k\n",
        "from torchtext.data import Field, BucketIterator\n",
        "\n",
        "SEED = 42\n",
        "random.seed(SEED)\n",
        "torch.manual_seed(SEED)\n",
        "torch.backends.cudnn.deterministic = True\n",
        "\n",
        "# for tokenizing the english sentences\n",
        "spacy_en = spacy.load('en')\n",
        "# for tokenizing the german sentences\n",
        "spacy_de = spacy.load('de')\n",
        "\n",
        "GOOGLE_COLAB = True\n",
        "data_dir = ''\n",
        "\n",
        "if GOOGLE_COLAB:\n",
        "    import os\n",
        "    from google.colab import drive\n",
        "    drive.mount('/content/gdrive') \n",
        "    data_dir = '/content/gdrive/My Drive/colab/translation-seq2seq/'\n",
        "    os.listdir(data_dir)     "
      ],
      "execution_count": 0,
      "outputs": [
        {
          "output_type": "stream",
          "text": [
            "Requirement already satisfied: en_core_web_sm==2.1.0 from https://github.com/explosion/spacy-models/releases/download/en_core_web_sm-2.1.0/en_core_web_sm-2.1.0.tar.gz#egg=en_core_web_sm==2.1.0 in /usr/local/lib/python3.6/dist-packages (2.1.0)\n",
            "\u001b[38;5;2m✔ Download and installation successful\u001b[0m\n",
            "You can now load the model via spacy.load('en_core_web_sm')\n",
            "\u001b[38;5;2m✔ Linking successful\u001b[0m\n",
            "/usr/local/lib/python3.6/dist-packages/en_core_web_sm -->\n",
            "/usr/local/lib/python3.6/dist-packages/spacy/data/en\n",
            "You can now load the model via spacy.load('en')\n",
            "Requirement already satisfied: de_core_news_sm==2.1.0 from https://github.com/explosion/spacy-models/releases/download/de_core_news_sm-2.1.0/de_core_news_sm-2.1.0.tar.gz#egg=de_core_news_sm==2.1.0 in /usr/local/lib/python3.6/dist-packages (2.1.0)\n",
            "\u001b[38;5;2m✔ Download and installation successful\u001b[0m\n",
            "You can now load the model via spacy.load('de_core_news_sm')\n",
            "\u001b[38;5;2m✔ Linking successful\u001b[0m\n",
            "/usr/local/lib/python3.6/dist-packages/de_core_news_sm -->\n",
            "/usr/local/lib/python3.6/dist-packages/spacy/data/de\n",
            "You can now load the model via spacy.load('de')\n",
            "Collecting pytorch-nlp\n",
            "\u001b[?25l  Downloading https://files.pythonhosted.org/packages/4f/51/f0ee1efb75f7cc2e3065c5da1363d6be2eec79691b2821594f3f2329528c/pytorch_nlp-0.5.0-py3-none-any.whl (90kB)\n",
            "\u001b[K     |████████████████████████████████| 92kB 3.7MB/s \n",
            "\u001b[?25hRequirement already satisfied: tqdm in /usr/local/lib/python3.6/dist-packages (from pytorch-nlp) (4.28.1)\n",
            "Requirement already satisfied: numpy in /usr/local/lib/python3.6/dist-packages (from pytorch-nlp) (1.17.4)\n",
            "Installing collected packages: pytorch-nlp\n",
            "Successfully installed pytorch-nlp-0.5.0\n",
            "Drive already mounted at /content/gdrive; to attempt to forcibly remount, call drive.mount(\"/content/gdrive\", force_remount=True).\n"
          ],
          "name": "stdout"
        }
      ]
    },
    {
      "cell_type": "markdown",
      "metadata": {
        "colab_type": "text",
        "id": "76jeSezKMZ8N"
      },
      "source": [
        "# Build dataset"
      ]
    },
    {
      "cell_type": "code",
      "metadata": {
        "colab_type": "code",
        "id": "chX0uqBrLTIy",
        "outputId": "affcf857-cc55-4178-f094-11f550d88793",
        "colab": {
          "base_uri": "https://localhost:8080/",
          "height": 136
        }
      },
      "source": [
        "def tokenize_de(text):\n",
        "    # tokenizes the german text into a list of strings(tokens) and reverse it\n",
        "    # we are reversing the input sentences, as it is observed \n",
        "    # by reversing the inputs we will get better results\n",
        "    return [tok.text for tok in spacy_de.tokenizer(text)][::-1]     # list[::-1] used to reverse the list\n",
        "\n",
        "\n",
        "def tokenize_en(text):\n",
        "    # tokenizes the english text into a list of strings(tokens)\n",
        "    return [tok.text for tok in spacy_en.tokenizer(text)]\n",
        "    \n",
        "SRC = Field(tokenize=tokenize_de, init_token='<sos>', eos_token='<eos>', lower=True)\n",
        "TRG = Field(tokenize=tokenize_en, init_token='<sos>', eos_token='<eos>', lower=True)\n",
        "\n",
        "print('Loading data...')\n",
        "train_data, valid_data, test_data = Multi30k.splits(exts=('.de', '.en'), fields=(SRC, TRG))\n",
        "print('Finished!')\n",
        "\n",
        "print(f\"Number of training examples: {len(train_data.examples)}\")\n",
        "print(f\"Number of validation examples: {len(valid_data.examples)}\")\n",
        "print(f\"Number of testing examples: {len(test_data.examples)}\")\n",
        "\n",
        "print(f\"src: {vars(train_data.examples[0])['src']}\")\n",
        "print(f\"trg: {vars(train_data.examples[0])['trg']}\")"
      ],
      "execution_count": 0,
      "outputs": [
        {
          "output_type": "stream",
          "text": [
            "Loading data...\n",
            "Finished!\n",
            "Number of training examples: 29000\n",
            "Number of validation examples: 1014\n",
            "Number of testing examples: 1000\n",
            "src: ['.', 'büsche', 'vieler', 'nähe', 'der', 'in', 'freien', 'im', 'sind', 'männer', 'weiße', 'junge', 'zwei']\n",
            "trg: ['two', 'young', ',', 'white', 'males', 'are', 'outside', 'near', 'many', 'bushes', '.']\n"
          ],
          "name": "stdout"
        }
      ]
    },
    {
      "cell_type": "markdown",
      "metadata": {
        "id": "Vel_Kq49aamh",
        "colab_type": "text"
      },
      "source": [
        "# Visualize sentence lengths"
      ]
    },
    {
      "cell_type": "code",
      "metadata": {
        "id": "Em7FP7KQZsy0",
        "colab_type": "code",
        "outputId": "02bf1168-d122-40f7-a6c6-245db275cb9e",
        "colab": {
          "base_uri": "https://localhost:8080/",
          "height": 545
        }
      },
      "source": [
        "import numpy as np\n",
        "import matplotlib.pyplot as plt\n",
        "src_lens = np.array([len(vars(train_data.examples[i])['src']) for i in range(len(train_data.examples))])\n",
        "trg_lens = np.array([len(vars(train_data.examples[i])['trg']) for i in range(len(train_data.examples))])\n",
        "\n",
        "plt.hist(src_lens)\n",
        "plt.title('src lengths')\n",
        "plt.show()\n",
        "\n",
        "plt.hist(trg_lens)\n",
        "plt.title('trg lengths')\n",
        "plt.show()"
      ],
      "execution_count": 0,
      "outputs": [
        {
          "output_type": "display_data",
          "data": {
            "image/png": "[encoded data removed]",
            "text/plain": [
              "<Figure size 432x288 with 1 Axes>"
            ]
          },
          "metadata": {
            "tags": []
          }
        },
        {
          "output_type": "display_data",
          "data": {
            "image/png": "[encoded data removed]",
            "text/plain": [
              "<Figure size 432x288 with 1 Axes>"
            ]
          },
          "metadata": {
            "tags": []
          }
        }
      ]
    },
    {
      "cell_type": "markdown",
      "metadata": {
        "colab_type": "text",
        "id": "VRnXHzNFMc9K"
      },
      "source": [
        "# Build vocab"
      ]
    },
    {
      "cell_type": "code",
      "metadata": {
        "colab_type": "code",
        "id": "Ux789LsoMPLa",
        "outputId": "d938e581-4590-4c09-b3b8-e1fa8394eec2",
        "colab": {
          "base_uri": "https://localhost:8080/",
          "height": 85
        }
      },
      "source": [
        "# build the vocab\n",
        "# consider words which are having atleast min_freq.\n",
        "# words having less than min_freq will be replaced by <unk> token\n",
        "print('Building vocabulary...')\n",
        "SRC.build_vocab(train_data, min_freq=2)\n",
        "TRG.build_vocab(train_data, min_freq=2)\n",
        "print('Finished!')\n",
        "\n",
        "print(f\"Unique tokens in source (de) vocabulary: {len(SRC.vocab)}\")\n",
        "print(f\"Unique tokens in target (en) vocabulary: {len(TRG.vocab)}\")"
      ],
      "execution_count": 0,
      "outputs": [
        {
          "output_type": "stream",
          "text": [
            "Building vocabulary...\n",
            "Finished!\n",
            "Unique tokens in source (de) vocabulary: 7855\n",
            "Unique tokens in target (en) vocabulary: 5893\n"
          ],
          "name": "stdout"
        }
      ]
    },
    {
      "cell_type": "code",
      "metadata": {
        "id": "1jfvMzfFZsy8",
        "colab_type": "code",
        "colab": {}
      },
      "source": [
        "def tensor_to_string(lang, tensor, reverse=False):\n",
        "    tokens = [lang.vocab.itos[x] for x in tensor if x not in [0,1,2,3]]\n",
        "    tokens = list(reversed(tokens)) if reverse else tokens\n",
        "    return \" \".join(tokens)\n",
        "\n",
        "def predict_single_sentence(src, tar):\n",
        "    # Insert into batch where all but the first entry just zeros\n",
        "    src_batch = torch.zeros((21, BATCH_SIZE)).long().to(device)\n",
        "    tar_batch = torch.zeros((15, BATCH_SIZE)).long().to(device)\n",
        "    src_batch[:, 0] = src[:, 0]\n",
        "    tar_batch[:, 0] = tar[:, 0]\n",
        "    \n",
        "    # Perform forward pass\n",
        "    output = model(src_batch, tar_batch, teacher_forcing_ratio=0) # no teacher forcing\n",
        "    \n",
        "    # Extract first predicted sentence\n",
        "    pred_token_ids = output[:, 0, :].argmax(dim=1)\n",
        "    \n",
        "    src_string = tensor_to_string(SRC, src.squeeze())\n",
        "    tar_string = tensor_to_string(TRG, tar.squeeze())\n",
        "    pred_string = tensor_to_string(TRG, pred_token_ids)\n",
        "    \n",
        "    print(\"SRC:\", src_string)\n",
        "    print(\"TAR:\", tar_string)\n",
        "    print(\"-\"*50)\n",
        "    print(\"PRED:\", pred_string)\n",
        "    return pred_token_ids"
      ],
      "execution_count": 0,
      "outputs": []
    },
    {
      "cell_type": "markdown",
      "metadata": {
        "id": "Tr7WWj8SZsy-",
        "colab_type": "text"
      },
      "source": [
        "# Batch size and device"
      ]
    },
    {
      "cell_type": "code",
      "metadata": {
        "colab_type": "code",
        "id": "3rlONvkwMUMQ",
        "outputId": "9c6aafb7-0141-4ac7-f8b8-8d4f0302c99f",
        "colab": {
          "base_uri": "https://localhost:8080/",
          "height": 51
        }
      },
      "source": [
        "# define batch size\n",
        "BATCH_SIZE = 256\n",
        "print('Using batch size:', BATCH_SIZE)\n",
        "\n",
        "# use gpu if available, else use cpu\n",
        "device = torch.device('cuda' if torch.cuda.is_available() else 'cpu')\n",
        "print('Loaded device:', device)\n",
        "\n",
        "# create data iterators for the data\n",
        "# padding all the sentences to same length, replacing words by its index,\n",
        "# bucketing (minimizes the amount of padding by grouping similar length sentences)\n",
        "train_iterator, valid_iterator, test_iterator = BucketIterator.splits((train_data, valid_data, test_data), batch_size=BATCH_SIZE, device=device)"
      ],
      "execution_count": 0,
      "outputs": [
        {
          "output_type": "stream",
          "text": [
            "Using batch size: 256\n",
            "Loaded device: cuda\n"
          ],
          "name": "stdout"
        }
      ]
    },
    {
      "cell_type": "markdown",
      "metadata": {
        "colab_type": "text",
        "id": "8CP4LVKAMXJr"
      },
      "source": [
        "# Model"
      ]
    },
    {
      "cell_type": "code",
      "metadata": {
        "colab_type": "code",
        "id": "ZwpS9GTmMXsd",
        "colab": {}
      },
      "source": [
        "class Encoder(nn.Module):\n",
        "    ''' Sequence to sequence networks consists of Encoder and Decoder modules.\n",
        "    This class contains the implementation of Encoder module.\n",
        "    Args:\n",
        "        input_dim: A integer indicating the size of input dimension.\n",
        "        emb_dim: A integer indicating the size of embeddings.\n",
        "        hidden_dim: A integer indicating the hidden dimension of RNN layers.\n",
        "        n_layers: A integer indicating the number of layers.\n",
        "        dropout: A float indicating dropout.\n",
        "    '''\n",
        "    def __init__(self, input_dim, emb_dim, hidden_dim, n_layers, dropout):\n",
        "        super().__init__()\n",
        "        self.input_dim = input_dim\n",
        "        self.emb_dim = emb_dim\n",
        "        self.hidden_dim = hidden_dim\n",
        "        self.n_layers = n_layers\n",
        "        self.dropout = dropout\n",
        "\n",
        "        self.embedding = nn.Embedding(input_dim, emb_dim)\n",
        "        self.rnn = nn.LSTM(emb_dim, hidden_dim, n_layers, dropout=dropout)  # default is time major\n",
        "        self.dropout = nn.Dropout(dropout)\n",
        "\n",
        "    def forward(self, src):\n",
        "        # src is of shape [sentence_length, batch_size], it is time major\n",
        "\n",
        "        # embedded is of shape [sentence_length, batch_size, embedding_size]\n",
        "        embedded = self.embedding(src)\n",
        "        embedded = self.dropout(embedded)\n",
        "\n",
        "        # inputs to the rnn is input, (h, c); if hidden, cell states are not passed means default initializes to zero.\n",
        "        # input is of shape [sequence_length, batch_size, input_size]\n",
        "        # hidden is of shape [num_layers * num_directions, batch_size, hidden_size]\n",
        "        # cell is of shape [num_layers * num_directions, batch_size, hidden_size]\n",
        "        outputs, (hidden, cell) = self.rnn(embedded)\n",
        "\n",
        "        # outputs are always from the top hidden layer, if bidirectional outputs are concatenated.\n",
        "        # outputs shape [sequence_length, batch_size, hidden_dim * num_directions]\n",
        "        return hidden, cell"
      ],
      "execution_count": 0,
      "outputs": []
    },
    {
      "cell_type": "code",
      "metadata": {
        "colab_type": "code",
        "id": "OMboe9ln-w8S",
        "colab": {}
      },
      "source": [
        "import torch\n",
        "import torch.nn as nn\n",
        "import torch.nn.functional as F\n",
        "\n",
        "class Attention(nn.Module):\n",
        "    \"\"\"\n",
        "        Applies an attention mechanism on the output features from the decoder.\n",
        "        Args:\n",
        "            dim(int): The number of expected features in the output\n",
        "        Inputs: output, context\n",
        "            - **output** (batch, output_len, dimensions): tensor containing the output features from the decoder.\n",
        "            - **context** (batch, input_len, dimensions): tensor containing features of the encoded input sequence.\n",
        "        Outputs: output, attn\n",
        "            - **output** (batch, output_len, dimensions): tensor containing the attended output features from the decoder.\n",
        "            - **attn** (batch, output_len, input_len): tensor containing attention weights.\n",
        "        Attributes:\n",
        "            linear (torch.nn.Linear): applies a linear transformation to the incoming data: :math:`y = Ax + b`.\n",
        "        Examples::\n",
        "            >>> attention = seq2seq.models.Attention(256)\n",
        "            >>> context = Variable(torch.randn(5, 3, 256))\n",
        "            >>> output = Variable(torch.randn(5, 5, 256))\n",
        "            >>> output, attn = attention(output, context)\n",
        "    \"\"\"\n",
        "    def __init__(self, dim):\n",
        "        super(Attention, self).__init__()\n",
        "        self.linear = nn.Linear(dim*2, dim)\n",
        "\n",
        "    def forward(self, output, context):\n",
        "        batch_size = output.size(0)\n",
        "        hidden_size = output.size(2)\n",
        "        input_size = context.size(1)\n",
        "        \n",
        "        # (batch, out_len, dim) * (batch, in_len, dim) -> (batch, out_len, in_len)\n",
        "        attn = torch.bmm(output, context.transpose(1, 2))\n",
        "        attn = F.softmax(attn.view(-1, input_size), dim=1).view(batch_size, -1, input_size)\n",
        "\n",
        "        # (batch, out_len, in_len) * (batch, in_len, dim) -> (batch, out_len, dim)\n",
        "        mix = torch.bmm(attn, context)\n",
        "\n",
        "        # concat -> (batch, out_len, 2*dim)\n",
        "        combined = torch.cat((mix, output), dim=2)\n",
        "        \n",
        "        # output -> (batch, out_len, dim)\n",
        "        output = torch.tanh(self.linear(combined.view(-1, 2 * hidden_size))).view(batch_size, -1, hidden_size)\n",
        "\n",
        "        return output, attn"
      ],
      "execution_count": 0,
      "outputs": []
    },
    {
      "cell_type": "code",
      "metadata": {
        "id": "-6NCpLMvZszD",
        "colab_type": "code",
        "colab": {}
      },
      "source": [
        "class AttentionDecoder(nn.Module):\n",
        "    ''' This class contains the implementation of Decoder Module.\n",
        "    Args:\n",
        "        embedding_dim: A integer indicating the embedding size.\n",
        "        output_dim: A integer indicating the size of output dimension.\n",
        "        hidden_dim: A integer indicating the hidden size of rnn.\n",
        "        n_layers: A integer indicating the number of layers in rnn.\n",
        "        dropout: A float indicating the dropout.\n",
        "    '''\n",
        "    def __init__(self, embedding_dim, output_dim, hidden_dim, n_layers, dropout):\n",
        "        super().__init__()\n",
        "\n",
        "        self.embedding_dim = embedding_dim\n",
        "        self.output_dim = output_dim\n",
        "        self.hidden_dim = hidden_dim\n",
        "        self.n_layers = n_layers\n",
        "        self.dropout = dropout\n",
        "\n",
        "        self.embedding = nn.Embedding(output_dim, embedding_dim)\n",
        "        self.attention = Attention(hidden_dim)\n",
        "        self.rnn = nn.LSTM(embedding_dim, hidden_dim, n_layers, dropout=dropout)\n",
        "        self.linear = nn.Linear(hidden_dim, output_dim)\n",
        "        self.dropout = nn.Dropout(dropout)\n",
        "\n",
        "    def forward(self, input, hidden, cell):\n",
        "        # input is of shape [batch_size]\n",
        "        # hidden is of shape [n_layer * num_directions, batch_size, hidden_size]\n",
        "        # cell is of shape [n_layer * num_directions, batch_size, hidden_size]\n",
        "\n",
        "        input = input.unsqueeze(0)\n",
        "        # input shape is [1, batch_size]. reshape is needed rnn expects a rank 3 tensors as input.\n",
        "        # so reshaping to [1, batch_size] means a batch of batch_size each containing 1 index.\n",
        "\n",
        "        embedded = self.embedding(input)\n",
        "        embedded = self.dropout(embedded)\n",
        "        # embedded is of shape [1, batch_size, embedding_dim]\n",
        "        \n",
        "        # Attention layer\n",
        "        att_output, attn = self.attention(embedded.transpose(0,1), hidden.transpose(0,1))\n",
        "\n",
        "        output, (hidden, cell) = self.rnn(att_output.transpose(0,1), (hidden, cell))\n",
        "        # generally output shape is [sequence_len, batch_size, hidden_dim * num_directions]\n",
        "        # generally hidden shape is [num_layers * num_directions, batch_size, hidden_dim]\n",
        "        # generally cell shape is [num_layers * num_directions, batch_size, hidden_dim]\n",
        "\n",
        "        # sequence_len and num_directions will always be 1 in the decoder.\n",
        "        # output shape is [1, batch_size, hidden_dim]\n",
        "        # hidden shape is [num_layers, batch_size, hidden_dim]\n",
        "        # cell shape is [num_layers, batch_size, hidden_dim]\n",
        "\n",
        "        predicted = self.linear(output.squeeze(0))  # linear expects as rank 2 tensor as input\n",
        "        # predicted shape is [batch_size, output_dim]\n",
        "\n",
        "        return predicted, hidden, cell"
      ],
      "execution_count": 0,
      "outputs": []
    },
    {
      "cell_type": "code",
      "metadata": {
        "id": "CKyLtENsrxQN",
        "colab_type": "code",
        "colab": {}
      },
      "source": [
        "class Decoder(nn.Module):\n",
        "    ''' This class contains the implementation of Decoder Module.\n",
        "    Args:\n",
        "        embedding_dim: A integer indicating the embedding size.\n",
        "        output_dim: A integer indicating the size of output dimension.\n",
        "        hidden_dim: A integer indicating the hidden size of rnn.\n",
        "        n_layers: A integer indicating the number of layers in rnn.\n",
        "        dropout: A float indicating the dropout.\n",
        "    '''\n",
        "    def __init__(self, embedding_dim, output_dim, hidden_dim, n_layers, dropout):\n",
        "        super().__init__()\n",
        "\n",
        "        self.embedding_dim = embedding_dim\n",
        "        self.output_dim = output_dim\n",
        "        self.hidden_dim = hidden_dim\n",
        "        self.n_layers = n_layers\n",
        "        self.dropout = dropout\n",
        "\n",
        "        self.embedding = nn.Embedding(output_dim, embedding_dim)\n",
        "        self.rnn = nn.LSTM(embedding_dim, hidden_dim, n_layers, dropout=dropout)\n",
        "        self.linear = nn.Linear(hidden_dim, output_dim)\n",
        "        self.dropout = nn.Dropout(dropout)\n",
        "\n",
        "    def forward(self, input, hidden, cell):\n",
        "        # input is of shape [batch_size]\n",
        "        # hidden is of shape [n_layer * num_directions, batch_size, hidden_size]\n",
        "        # cell is of shape [n_layer * num_directions, batch_size, hidden_size]\n",
        "\n",
        "        input = input.unsqueeze(0)\n",
        "        # input shape is [1, batch_size]. reshape is needed rnn expects a rank 3 tensors as input.\n",
        "        # so reshaping to [1, batch_size] means a batch of batch_size each containing 1 index.\n",
        "\n",
        "        embedded = self.embedding(input)\n",
        "        embedded = self.dropout(embedded)\n",
        "        # embedded is of shape [1, batch_size, embedding_dim]\n",
        "\n",
        "        output, (hidden, cell) = self.rnn(embedded, (hidden, cell))\n",
        "        # generally output shape is [sequence_len, batch_size, hidden_dim * num_directions]\n",
        "        # generally hidden shape is [num_layers * num_directions, batch_size, hidden_dim]\n",
        "        # generally cell shape is [num_layers * num_directions, batch_size, hidden_dim]\n",
        "\n",
        "        # sequence_len and num_directions will always be 1 in the decoder.\n",
        "        # output shape is [1, batch_size, hidden_dim]\n",
        "        # hidden shape is [num_layers, batch_size, hidden_dim]\n",
        "        # cell shape is [num_layers, batch_size, hidden_dim]\n",
        "\n",
        "        predicted = self.linear(output.squeeze(0))  # linear expects as rank 2 tensor as input\n",
        "        # predicted shape is [batch_size, output_dim]\n",
        "\n",
        "        return predicted, hidden, cell"
      ],
      "execution_count": 0,
      "outputs": []
    },
    {
      "cell_type": "code",
      "metadata": {
        "colab_type": "code",
        "id": "STxFZPLgMlME",
        "colab": {}
      },
      "source": [
        "class Seq2Seq(nn.Module):\n",
        "    ''' This class contains the implementation of complete sequence to sequence network.\n",
        "    It uses to encoder to produce the context vectors.\n",
        "    It uses the decoder to produce the predicted target sentence.\n",
        "    Args:\n",
        "        encoder: A Encoder class instance.\n",
        "        decoder: A Decoder class instance.\n",
        "    '''\n",
        "    def __init__(self, encoder, decoder):\n",
        "        super().__init__()\n",
        "        self.encoder = encoder\n",
        "        self.decoder = decoder\n",
        "\n",
        "    def forward(self, src, trg, teacher_forcing_ratio=0.5):\n",
        "        # src is of shape [sequence_len, batch_size]\n",
        "        # trg is of shape [sequence_len, batch_size]\n",
        "        # if teacher_forcing_ratio is 0.5 we use ground-truth inputs 50% of time and 50% time we use decoder outputs.\n",
        "\n",
        "        batch_size = trg.shape[1]\n",
        "        max_len = trg.shape[0]\n",
        "        trg_vocab_size = self.decoder.output_dim\n",
        "\n",
        "        # to store the outputs of the decoder\n",
        "        outputs = torch.zeros(max_len, batch_size, trg_vocab_size)\n",
        "\n",
        "        # context vector, last hidden and cell state of encoder to initialize the decoder\n",
        "        hidden, cell = self.encoder(src)\n",
        "\n",
        "        # first input to the decoder is the <sos> tokens\n",
        "        decoder_input = trg[0, :]\n",
        "        \n",
        "        for t in range(1, max_len):\n",
        "            output, hidden, cell = self.decoder(decoder_input, hidden, cell)\n",
        "            outputs[t] = output\n",
        "            \n",
        "            # pick next token to feed the decoder\n",
        "            top1 = output.argmax(dim=1)\n",
        "            use_teacher_force = random.random() < teacher_forcing_ratio\n",
        "            decoder_input = (trg[t] if use_teacher_force else top1)\n",
        "\n",
        "        # outputs is of shape [sequence_len, batch_size, output_dim]\n",
        "        return outputs"
      ],
      "execution_count": 0,
      "outputs": []
    },
    {
      "cell_type": "code",
      "metadata": {
        "id": "RsZsSyvLo57c",
        "colab_type": "code",
        "colab": {}
      },
      "source": [
        "def count_parameters(model):\n",
        "    return sum(p.numel() for p in model.parameters() if p.requires_grad)\n"
      ],
      "execution_count": 0,
      "outputs": []
    },
    {
      "cell_type": "markdown",
      "metadata": {
        "id": "h9rf_LDHZszG",
        "colab_type": "text"
      },
      "source": [
        "# Example model"
      ]
    },
    {
      "cell_type": "code",
      "metadata": {
        "colab_type": "code",
        "id": "l8NoCaLcMoZ1",
        "outputId": "f4984d53-529e-4db2-d60b-d3e5c46e1e48",
        "colab": {
          "base_uri": "https://localhost:8080/",
          "height": 34
        }
      },
      "source": [
        "INPUT_DIM = len(SRC.vocab)\n",
        "OUTPUT_DIM = len(TRG.vocab)\n",
        "ENC_EMB_DIM = 256   # encoder embedding size\n",
        "DEC_EMB_DIM = 256   # decoder embedding size (can be different from encoder embedding size)\n",
        "HID_DIM = 256       # hidden dimension (must be same for encoder & decoder)\n",
        "N_LAYERS = 2        # number of rnn layers (must be same for encoder & decoder)\n",
        "ENC_DROPOUT = 0.5   # encoder dropout\n",
        "DEC_DROPOUT = 0.5   # decoder dropout (can be different from encoder droput)\n",
        "\n",
        "# Set up Model\n",
        "enc = Encoder(INPUT_DIM, ENC_EMB_DIM, HID_DIM, N_LAYERS, ENC_DROPOUT).to(device)\n",
        "dec = AttentionDecoder(DEC_EMB_DIM, OUTPUT_DIM, HID_DIM, N_LAYERS, DEC_DROPOUT).to(device)\n",
        "model = Seq2Seq(enc, dec).to(device)\n",
        "\n",
        "# Set up optimizer and loss function\n",
        "optimizer = optim.Adam(model.parameters())\n",
        "criterion = nn.CrossEntropyLoss(ignore_index=TRG.vocab.stoi['<pad>'])\n",
        "\n",
        "print('Number of params:', count_parameters(model))"
      ],
      "execution_count": 0,
      "outputs": [
        {
          "output_type": "stream",
          "text": [
            "Number of params: 7270661\n"
          ],
          "name": "stdout"
        }
      ]
    },
    {
      "cell_type": "markdown",
      "metadata": {
        "id": "lCtOtdeLZszI",
        "colab_type": "text"
      },
      "source": [
        "## Set up dummy pair"
      ]
    },
    {
      "cell_type": "code",
      "metadata": {
        "colab_type": "code",
        "id": "QDcqISMj_UfV",
        "colab": {}
      },
      "source": [
        "src = torch.LongTensor(21, BATCH_SIZE).random_(10).to(device)\n",
        "tar = torch.LongTensor(15, BATCH_SIZE).random_(10).to(device)"
      ],
      "execution_count": 0,
      "outputs": []
    },
    {
      "cell_type": "markdown",
      "metadata": {
        "id": "saf43-0iZszL",
        "colab_type": "text"
      },
      "source": [
        "## Run forward pass"
      ]
    },
    {
      "cell_type": "code",
      "metadata": {
        "id": "_0y0jCVNZszM",
        "colab_type": "code",
        "outputId": "4ca29351-35fc-4fee-c1ee-035e8607dad6",
        "colab": {
          "base_uri": "https://localhost:8080/",
          "height": 34
        }
      },
      "source": [
        "outputs = model.forward(src, tar)\n",
        "output0 = outputs[:, 0, :]\n",
        "output0.argmax(dim=1)\n",
        "tensor_to_string(TRG, output0.argmax(dim=1))"
      ],
      "execution_count": 0,
      "outputs": [
        {
          "output_type": "execute_result",
          "data": {
            "text/plain": [
              "'records ink crew uses uses dusk arrow ceremony office lakeside daytime high book headgear'"
            ]
          },
          "metadata": {
            "tags": []
          },
          "execution_count": 16
        }
      ]
    },
    {
      "cell_type": "code",
      "metadata": {
        "id": "JUwXDcSidsRa",
        "colab_type": "code",
        "outputId": "cb5ce4d0-c9da-4bc5-8ff3-1cd496c32acf",
        "colab": {
          "base_uri": "https://localhost:8080/",
          "height": 34
        }
      },
      "source": [
        "sum(outputs[:, 0, :][4])"
      ],
      "execution_count": 0,
      "outputs": [
        {
          "output_type": "execute_result",
          "data": {
            "text/plain": [
              "tensor(0.4660, grad_fn=<AddBackward0>)"
            ]
          },
          "metadata": {
            "tags": []
          },
          "execution_count": 17
        }
      ]
    },
    {
      "cell_type": "code",
      "metadata": {
        "id": "aXSx7hrjbq16",
        "colab_type": "code",
        "outputId": "5b28a0c8-eea3-4e13-aee4-8b5d98d79315",
        "colab": {
          "base_uri": "https://localhost:8080/",
          "height": 51
        }
      },
      "source": [
        "output0.argmax(dim=1)"
      ],
      "execution_count": 0,
      "outputs": [
        {
          "output_type": "execute_result",
          "data": {
            "text/plain": [
              "tensor([5892, 4374, 4374, 4374,  579,  579,  579, 3589, 4509,  926, 3096, 3589,\n",
              "         680, 4374, 2425])"
            ]
          },
          "metadata": {
            "tags": []
          },
          "execution_count": 17
        }
      ]
    },
    {
      "cell_type": "markdown",
      "metadata": {
        "id": "l_WIOvUAZszO",
        "colab_type": "text"
      },
      "source": [
        "# Fine-grained example\n",
        "## Forward pass through encoder"
      ]
    },
    {
      "cell_type": "code",
      "metadata": {
        "colab_type": "code",
        "id": "qjehfPfT_OeE",
        "outputId": "582c43c5-7118-48b3-f35b-ecc7ba99e413",
        "colab": {
          "base_uri": "https://localhost:8080/",
          "height": 34
        }
      },
      "source": [
        "hidden, cell = enc(src)\n",
        "hidden.shape, cell.shape"
      ],
      "execution_count": 0,
      "outputs": [
        {
          "output_type": "execute_result",
          "data": {
            "text/plain": [
              "(torch.Size([2, 256, 256]), torch.Size([2, 256, 256]))"
            ]
          },
          "metadata": {
            "tags": []
          },
          "execution_count": 18
        }
      ]
    },
    {
      "cell_type": "markdown",
      "metadata": {
        "id": "LtwRDuCVZszQ",
        "colab_type": "text"
      },
      "source": [
        "## Set up decoder"
      ]
    },
    {
      "cell_type": "code",
      "metadata": {
        "colab_type": "code",
        "id": "naX0nQaMB8S4",
        "colab": {}
      },
      "source": [
        "embedding = nn.Embedding(OUTPUT_DIM, DEC_EMB_DIM).to(device)\n",
        "rnn = nn.LSTM(DEC_EMB_DIM, HID_DIM, N_LAYERS, dropout=DEC_DROPOUT).to(device)\n",
        "linear = nn.Linear(HID_DIM, OUTPUT_DIM).to(device)\n",
        "dropout = nn.Dropout(DEC_DROPOUT).to(device)"
      ],
      "execution_count": 0,
      "outputs": []
    },
    {
      "cell_type": "markdown",
      "metadata": {
        "id": "y38VAreHZszS",
        "colab_type": "text"
      },
      "source": [
        "## Run through embedding layer"
      ]
    },
    {
      "cell_type": "code",
      "metadata": {
        "id": "S_278672ZszS",
        "colab_type": "code",
        "outputId": "da56b803-e491-4d6b-b72a-583935bb2905",
        "colab": {
          "base_uri": "https://localhost:8080/",
          "height": 68
        }
      },
      "source": [
        "# transform \n",
        "decoder_input = tar[0].unsqueeze(0)\n",
        "\n",
        "# Embed\n",
        "embedded = embedding(decoder_input)\n",
        "embedded = dropout(embedded)\n",
        "\n",
        "print(\"hidden shape\", hidden.shape)\n",
        "print(\"cell shape\", cell.shape)\n",
        "print(\"embedded shape\", embedded.shape)"
      ],
      "execution_count": 0,
      "outputs": [
        {
          "output_type": "stream",
          "text": [
            "hidden shape torch.Size([2, 256, 256])\n",
            "cell shape torch.Size([2, 256, 256])\n",
            "embedded shape torch.Size([1, 256, 256])\n"
          ],
          "name": "stdout"
        }
      ]
    },
    {
      "cell_type": "markdown",
      "metadata": {
        "id": "7UvThLKhZszU",
        "colab_type": "text"
      },
      "source": [
        "## Run through attention layer"
      ]
    },
    {
      "cell_type": "code",
      "metadata": {
        "colab_type": "code",
        "id": "hgx9CrUyFAyz",
        "outputId": "1f3948b3-281e-4b19-8a1a-0799b228ab59",
        "colab": {
          "base_uri": "https://localhost:8080/",
          "height": 34
        }
      },
      "source": [
        "# Attention layer\n",
        "attention = Attention(HID_DIM).to(device)\n",
        "output, attn = attention(embedded.transpose(0,1), hidden.transpose(0,1))\n",
        "print(\"output shape\", output.shape)"
      ],
      "execution_count": 0,
      "outputs": [
        {
          "output_type": "stream",
          "text": [
            "output shape torch.Size([256, 1, 256])\n"
          ],
          "name": "stdout"
        }
      ]
    },
    {
      "cell_type": "markdown",
      "metadata": {
        "id": "SIpxAYYlZszW",
        "colab_type": "text"
      },
      "source": [
        "## Run through RNN layer"
      ]
    },
    {
      "cell_type": "code",
      "metadata": {
        "id": "HWVfPiVHZszX",
        "colab_type": "code",
        "outputId": "147434ed-b57f-4cc9-bb0f-3fe435901510",
        "colab": {
          "base_uri": "https://localhost:8080/",
          "height": 34
        }
      },
      "source": [
        "output, (hidden, cell) = rnn(output.transpose(0,1), (hidden, cell))\n",
        "output.shape"
      ],
      "execution_count": 0,
      "outputs": [
        {
          "output_type": "execute_result",
          "data": {
            "text/plain": [
              "torch.Size([1, 256, 256])"
            ]
          },
          "metadata": {
            "tags": []
          },
          "execution_count": 22
        }
      ]
    },
    {
      "cell_type": "markdown",
      "metadata": {
        "colab_type": "text",
        "id": "YuUoZq0zuzve"
      },
      "source": [
        "# Example: Eval single sentence"
      ]
    },
    {
      "cell_type": "code",
      "metadata": {
        "id": "FvdnMZE7ZszY",
        "colab_type": "code",
        "outputId": "b8a1366a-be7c-4928-d69f-9622b3559dfa",
        "colab": {
          "base_uri": "https://localhost:8080/",
          "height": 34
        }
      },
      "source": [
        "# Extract single sentence\n",
        "src_single = src[:, 0].unsqueeze(1)\n",
        "tar_single = tar[:, 0].unsqueeze(1)\n",
        "src_single.shape, tar_single.shape"
      ],
      "execution_count": 0,
      "outputs": [
        {
          "output_type": "execute_result",
          "data": {
            "text/plain": [
              "(torch.Size([21, 1]), torch.Size([15, 1]))"
            ]
          },
          "metadata": {
            "tags": []
          },
          "execution_count": 23
        }
      ]
    },
    {
      "cell_type": "code",
      "metadata": {
        "id": "GrlE_l6oZsza",
        "colab_type": "code",
        "outputId": "daa807d9-1c12-4af5-b916-4ee42f6930f9",
        "colab": {
          "base_uri": "https://localhost:8080/",
          "height": 85
        }
      },
      "source": [
        "predicted_ids = predict_single_sentence(src_single, tar_single)"
      ],
      "execution_count": 0,
      "outputs": [
        {
          "output_type": "stream",
          "text": [
            "SRC: . , . . einem , , ein einem\n",
            "TAR: in in a on . the a\n",
            "--------------------------------------------------\n",
            "PRED: zune 63 circus uses uses strikes picture picture booth arrow foreign dusk booth arrow arrow\n"
          ],
          "name": "stdout"
        }
      ]
    },
    {
      "cell_type": "code",
      "metadata": {
        "id": "XJ6lffiMdB7b",
        "colab_type": "code",
        "outputId": "b12dee22-b056-48bc-f75c-24b30fc67008",
        "colab": {
          "base_uri": "https://localhost:8080/",
          "height": 51
        }
      },
      "source": [
        "predicted_ids"
      ],
      "execution_count": 0,
      "outputs": [
        {
          "output_type": "execute_result",
          "data": {
            "text/plain": [
              "tensor([5892, 4564, 2690,  579,  579, 3715,  134,  134,  906, 2425,  990, 1703,\n",
              "         906, 2425, 2425])"
            ]
          },
          "metadata": {
            "tags": []
          },
          "execution_count": 25
        }
      ]
    },
    {
      "cell_type": "markdown",
      "metadata": {
        "colab_type": "text",
        "id": "DooTFJ-au5l3"
      },
      "source": [
        "# Train func"
      ]
    },
    {
      "cell_type": "code",
      "metadata": {
        "colab_type": "code",
        "id": "aTPPR1hVMsEw",
        "colab": {}
      },
      "source": [
        "def train(model, iterator, optimizer, criterion, clip):\n",
        "    ''' Training loop for the model to train.\n",
        "    Args:\n",
        "        model: A Seq2Seq model instance.\n",
        "        iterator: A DataIterator to read the data.\n",
        "        optimizer: Optimizer for the model.\n",
        "        criterion: loss criterion.\n",
        "        clip: gradient clip value.\n",
        "    Returns:\n",
        "        epoch_loss: Average loss of the epoch.\n",
        "    '''\n",
        "    #  some layers have different behavior during train/and evaluation (like BatchNorm, Dropout) so setting it matters.\n",
        "    model.train()\n",
        "    # loss\n",
        "    epoch_loss = 0\n",
        "\n",
        "    for i, batch in enumerate(iterator):\n",
        "        src = batch.src\n",
        "        trg = batch.trg\n",
        "\n",
        "        optimizer.zero_grad()\n",
        "\n",
        "        # trg is of shape [sequence_len, batch_size]\n",
        "        # output is of shape [sequence_len, batch_size, output_dim]\n",
        "        output = model(src, trg)\n",
        "        output = output.to(device)\n",
        "\n",
        "        # loss function works only 2d logits, 1d targets\n",
        "        # so flatten the trg, output tensors. Ignore the <sos> token\n",
        "        # trg shape shape should be [(sequence_len - 1) * batch_size]\n",
        "        # output shape should be [(sequence_len - 1) * batch_size, output_dim]\n",
        "\n",
        "        loss = criterion(output[1:].view(-1, output.shape[2]), trg[1:].view(-1))\n",
        "\n",
        "        # backward pass\n",
        "        loss.backward()\n",
        "\n",
        "        # clip the gradients\n",
        "        torch.nn.utils.clip_grad_norm_(model.parameters(), clip)\n",
        "\n",
        "        # update the parameters\n",
        "        optimizer.step()\n",
        "\n",
        "        epoch_loss += loss.item()\n",
        "        if i > 0 and i % 10 == 0: print(\"Train Loss:\", loss.item())\n",
        "\n",
        "    # return the average loss\n",
        "    return epoch_loss / len(iterator)"
      ],
      "execution_count": 0,
      "outputs": []
    },
    {
      "cell_type": "markdown",
      "metadata": {
        "colab_type": "text",
        "id": "lkKLE15Xu3_z"
      },
      "source": [
        "# Eval func"
      ]
    },
    {
      "cell_type": "code",
      "metadata": {
        "colab_type": "code",
        "id": "Q7ZA5_MZMwac",
        "colab": {}
      },
      "source": [
        "def evaluate(model, iterator, criterion):\n",
        "    ''' Evaluation loop for the model to evaluate.\n",
        "    Args:\n",
        "        model: A Seq2Seq model instance.\n",
        "        iterator: A DataIterator to read the data.\n",
        "        criterion: loss criterion.\n",
        "    Returns:\n",
        "        epoch_loss: Average loss of the epoch.\n",
        "    '''\n",
        "    #  some layers have different behavior during train/and evaluation (like BatchNorm, Dropout) so setting it matters.\n",
        "    model.eval()\n",
        "    # loss\n",
        "    epoch_loss = 0\n",
        "\n",
        "    # we don't need to update the model parameters. only forward pass.\n",
        "    with torch.no_grad():\n",
        "        for i, batch in enumerate(iterator):\n",
        "            src = batch.src\n",
        "            trg = batch.trg\n",
        "\n",
        "            output = model(src, trg, 0)     # turn off the teacher forcing\n",
        "            output = output.to(device)\n",
        "\n",
        "            # loss function works only 2d logits, 1d targets\n",
        "            # so flatten the trg, output tensors. Ignore the <sos> token\n",
        "            # trg shape shape should be [(sequence_len - 1) * batch_size]\n",
        "            # output shape should be [(sequence_len - 1) * batch_size, output_dim]\n",
        "            loss = criterion(output[1:].view(-1, output.shape[2]), trg[1:].view(-1))\n",
        "\n",
        "            epoch_loss += loss.item()\n",
        "    return epoch_loss / len(iterator)"
      ],
      "execution_count": 0,
      "outputs": []
    },
    {
      "cell_type": "markdown",
      "metadata": {
        "colab_type": "text",
        "id": "TgbwRX3yu2PH"
      },
      "source": [
        "# Train Loop"
      ]
    },
    {
      "cell_type": "code",
      "metadata": {
        "id": "GTkOGGnZZszh",
        "colab_type": "code",
        "colab": {}
      },
      "source": [
        "INPUT_DIM = len(SRC.vocab)\n",
        "OUTPUT_DIM = len(TRG.vocab)\n",
        "ENC_EMB_DIM = 256   # encoder embedding size\n",
        "DEC_EMB_DIM = 256   # decoder embedding size (can be different from encoder embedding size)\n",
        "HID_DIM = 256       # hidden dimension (must be same for encoder & decoder)\n",
        "N_LAYERS = 2        # number of rnn layers (must be same for encoder & decoder)\n",
        "ENC_DROPOUT = 0.5   # encoder dropout\n",
        "DEC_DROPOUT = 0.5   # decoder dropout (can be different from encoder droput)\n",
        "\n",
        "# Set up Model\n",
        "enc = Encoder(INPUT_DIM, ENC_EMB_DIM, HID_DIM, N_LAYERS, ENC_DROPOUT).to(device)\n",
        "#dec = AttentionDecoder(DEC_EMB_DIM, OUTPUT_DIM, HID_DIM, N_LAYERS, DEC_DROPOUT).to(device)\n",
        "dec = Decoder(DEC_EMB_DIM, OUTPUT_DIM, HID_DIM, N_LAYERS, DEC_DROPOUT).to(device)\n",
        "model = Seq2Seq(enc, dec).to(device)\n",
        "\n",
        "# Set up optimizer and loss function\n",
        "optimizer = optim.Adam(model.parameters())\n",
        "criterion = nn.CrossEntropyLoss(ignore_index=TRG.vocab.stoi['<pad>'])\n",
        "\n",
        "import pickle\n",
        "losses_file = data_dir + 'losses.pickle'\n",
        "\n",
        "train_losses = []\n",
        "val_losses = []\n",
        "\n",
        "N_EPOCHS = 50           # number of epochs\n",
        "CLIP = 10               # gradient clip value\n",
        "SAVE_DIR = data_dir     # directory name to save the models.\n",
        "\n",
        "from datetime import datetime\n",
        "dateTimeObj = datetime.now()\n",
        "timestamp = str(dateTimeObj).replace(' ', '_')\n",
        "MODEL_SAVE_PATH = os.path.join(SAVE_DIR, timestamp + 'seq2seq_model_no_att.pt')\n",
        "\n",
        "best_validation_loss = float('inf')\n",
        "\n",
        "if not os.path.isdir(f'{SAVE_DIR}'):\n",
        "    os.makedirs(f'{SAVE_DIR}')"
      ],
      "execution_count": 0,
      "outputs": []
    },
    {
      "cell_type": "markdown",
      "metadata": {
        "id": "1owYbownsyyF",
        "colab_type": "text"
      },
      "source": [
        "# TRAIN!"
      ]
    },
    {
      "cell_type": "code",
      "metadata": {
        "colab_type": "code",
        "id": "5fkdImhBM3Np",
        "outputId": "9a7834ff-d731-4ed0-dd90-388d78382da0",
        "colab": {
          "base_uri": "https://localhost:8080/",
          "height": 1000
        }
      },
      "source": [
        "import time\n",
        "start = time.time()\n",
        "\n",
        "for epoch in range(50):\n",
        "    train_loss = train(model, train_iterator, optimizer, criterion, CLIP)\n",
        "    val_loss = evaluate(model, valid_iterator, criterion)\n",
        "    \n",
        "    # Log the train and val_losses by saving to disk\n",
        "    train_losses.append(train_loss)\n",
        "    val_losses.append(val_loss)\n",
        "    pickle.dump((train_losses, val_losses), open(losses_file, 'wb'))\n",
        "    \n",
        "    print('Epoch finished in:', time.time() - start, 'secs')\n",
        "    start = time.time()\n",
        "\n",
        "    if val_loss < best_validation_loss:\n",
        "        best_validation_loss = val_loss\n",
        "        torch.save(model.state_dict(), MODEL_SAVE_PATH)\n",
        "        print(f'| Epoch: {epoch+1:03} | Train Loss: {train_loss:.3f} | Train PPL: {math.exp(train_loss):7.3f} | Val. Loss: {val_loss:.3f} | Val. PPL: {math.exp(val_loss):7.3f} |')"
      ],
      "execution_count": 0,
      "outputs": [
        {
          "output_type": "stream",
          "text": [
            "Train Loss: 6.219449996948242\n",
            "Train Loss: 5.311295032501221\n",
            "Train Loss: 5.251638889312744\n",
            "Train Loss: 5.123062610626221\n",
            "Train Loss: 5.190574645996094\n",
            "Train Loss: 5.095025539398193\n",
            "Train Loss: 5.104218482971191\n",
            "Train Loss: 5.026403903961182\n",
            "Train Loss: 5.003878593444824\n",
            "Train Loss: 4.983217716217041\n",
            "Train Loss: 5.043433666229248\n",
            "Epoch finished in: 272.36446619033813 secs\n",
            "| Epoch: 001 | Train Loss: 5.400 | Train PPL: 221.483 | Val. Loss: 4.862 | Val. PPL: 129.225 |\n",
            "Train Loss: 4.942638874053955\n",
            "Train Loss: 4.9368767738342285\n",
            "Train Loss: 4.805315017700195\n",
            "Train Loss: 4.982738494873047\n",
            "Train Loss: 4.826338768005371\n",
            "Train Loss: 4.897904396057129\n",
            "Train Loss: 4.924003601074219\n",
            "Train Loss: 4.842525482177734\n",
            "Train Loss: 4.711488723754883\n",
            "Train Loss: 4.8154215812683105\n",
            "Train Loss: 4.715877056121826\n",
            "Epoch finished in: 268.028116941452 secs\n",
            "| Epoch: 002 | Train Loss: 4.874 | Train PPL: 130.904 | Val. Loss: 4.804 | Val. PPL: 122.044 |\n",
            "Train Loss: 4.760447025299072\n",
            "Train Loss: 4.7915568351745605\n",
            "Train Loss: 4.630345821380615\n",
            "Train Loss: 4.707167148590088\n",
            "Train Loss: 4.8186163902282715\n",
            "Train Loss: 4.617039680480957\n",
            "Train Loss: 4.674540042877197\n",
            "Train Loss: 4.681414604187012\n",
            "Train Loss: 4.593463897705078\n",
            "Train Loss: 4.78239631652832\n",
            "Train Loss: 4.594196319580078\n",
            "Epoch finished in: 273.07032227516174 secs\n",
            "Train Loss: 4.758532524108887\n",
            "Train Loss: 4.564048767089844\n",
            "Train Loss: 4.665511131286621\n",
            "Train Loss: 4.521976470947266\n",
            "Train Loss: 4.498396396636963\n",
            "Train Loss: 4.616682529449463\n",
            "Train Loss: 4.397204875946045\n",
            "Train Loss: 4.518089294433594\n",
            "Train Loss: 4.564919471740723\n",
            "Train Loss: 4.560370445251465\n",
            "Train Loss: 4.418220520019531\n",
            "Epoch finished in: 277.8946707248688 secs\n",
            "| Epoch: 004 | Train Loss: 4.551 | Train PPL:  94.729 | Val. Loss: 4.731 | Val. PPL: 113.412 |\n",
            "Train Loss: 4.4639763832092285\n",
            "Train Loss: 4.4104814529418945\n",
            "Train Loss: 4.452238082885742\n",
            "Train Loss: 4.523110389709473\n",
            "Train Loss: 4.600753307342529\n",
            "Train Loss: 4.383695125579834\n",
            "Train Loss: 4.411536693572998\n",
            "Train Loss: 4.274055480957031\n",
            "Train Loss: 4.4616899490356445\n",
            "Train Loss: 4.288156032562256\n",
            "Train Loss: 4.317948341369629\n",
            "Epoch finished in: 273.32541155815125 secs\n",
            "| Epoch: 005 | Train Loss: 4.394 | Train PPL:  80.995 | Val. Loss: 4.637 | Val. PPL: 103.256 |\n",
            "Train Loss: 4.293388843536377\n",
            "Train Loss: 4.1884684562683105\n",
            "Train Loss: 4.203191757202148\n",
            "Train Loss: 4.300199508666992\n",
            "Train Loss: 4.455232620239258\n",
            "Train Loss: 4.257214546203613\n",
            "Train Loss: 4.282588481903076\n",
            "Train Loss: 4.136505126953125\n",
            "Train Loss: 4.040241718292236\n",
            "Train Loss: 4.220358848571777\n",
            "Train Loss: 4.187750339508057\n",
            "Epoch finished in: 272.32040882110596 secs\n",
            "| Epoch: 006 | Train Loss: 4.263 | Train PPL:  71.017 | Val. Loss: 4.551 | Val. PPL:  94.701 |\n",
            "Train Loss: 4.035724639892578\n",
            "Train Loss: 4.203746318817139\n",
            "Train Loss: 4.11443567276001\n",
            "Train Loss: 4.248840808868408\n",
            "Train Loss: 4.034212112426758\n",
            "Train Loss: 4.193032741546631\n",
            "Train Loss: 4.153356552124023\n",
            "Train Loss: 4.2522053718566895\n",
            "Train Loss: 4.199840068817139\n",
            "Train Loss: 4.060698509216309\n",
            "Train Loss: 4.050604343414307\n",
            "Epoch finished in: 276.1381616592407 secs\n",
            "Train Loss: 4.070739269256592\n",
            "Train Loss: 4.072674751281738\n",
            "Train Loss: 3.9721899032592773\n",
            "Train Loss: 3.995079517364502\n",
            "Train Loss: 4.103515148162842\n",
            "Train Loss: 4.175321102142334\n",
            "Train Loss: 4.020256996154785\n",
            "Train Loss: 4.143628120422363\n",
            "Train Loss: 4.085291862487793\n",
            "Train Loss: 4.252223014831543\n",
            "Train Loss: 4.17573881149292\n",
            "Epoch finished in: 269.4787402153015 secs\n",
            "| Epoch: 008 | Train Loss: 4.105 | Train PPL:  60.620 | Val. Loss: 4.438 | Val. PPL:  84.582 |\n",
            "Train Loss: 4.07694673538208\n",
            "Train Loss: 3.8752176761627197\n",
            "Train Loss: 4.155463218688965\n",
            "Train Loss: 4.051392078399658\n",
            "Train Loss: 4.153944969177246\n",
            "Train Loss: 4.100348949432373\n",
            "Train Loss: 3.8656845092773438\n",
            "Train Loss: 3.9200618267059326\n",
            "Train Loss: 3.876587152481079\n",
            "Train Loss: 3.7473011016845703\n",
            "Train Loss: 3.951150894165039\n",
            "Epoch finished in: 271.69881653785706 secs\n",
            "| Epoch: 009 | Train Loss: 3.990 | Train PPL:  54.043 | Val. Loss: 4.432 | Val. PPL:  84.084 |\n",
            "Train Loss: 4.086061477661133\n",
            "Train Loss: 3.6276068687438965\n",
            "Train Loss: 3.976945161819458\n",
            "Train Loss: 3.8365676403045654\n",
            "Train Loss: 3.832437515258789\n",
            "Train Loss: 3.804743528366089\n",
            "Train Loss: 4.019992828369141\n",
            "Train Loss: 3.9191200733184814\n",
            "Train Loss: 3.7532596588134766\n",
            "Train Loss: 3.994978666305542\n",
            "Train Loss: 3.9605154991149902\n",
            "Epoch finished in: 268.6399703025818 secs\n",
            "| Epoch: 010 | Train Loss: 3.937 | Train PPL:  51.262 | Val. Loss: 4.327 | Val. PPL:  75.749 |\n",
            "Train Loss: 3.768831968307495\n",
            "Train Loss: 3.7883384227752686\n",
            "Train Loss: 3.775583267211914\n",
            "Train Loss: 3.8074376583099365\n",
            "Train Loss: 3.9643824100494385\n",
            "Train Loss: 3.7603609561920166\n",
            "Train Loss: 3.8954379558563232\n",
            "Train Loss: 3.7776691913604736\n",
            "Train Loss: 3.754910945892334\n",
            "Train Loss: 3.9007179737091064\n",
            "Train Loss: 3.765193223953247\n",
            "Epoch finished in: 273.6434168815613 secs\n",
            "| Epoch: 011 | Train Loss: 3.828 | Train PPL:  45.958 | Val. Loss: 4.260 | Val. PPL:  70.792 |\n",
            "Train Loss: 3.8505327701568604\n",
            "Train Loss: 3.7026479244232178\n",
            "Train Loss: 3.9448745250701904\n",
            "Train Loss: 4.108500003814697\n",
            "Train Loss: 3.7469887733459473\n",
            "Train Loss: 3.8735384941101074\n",
            "Train Loss: 3.8254404067993164\n",
            "Train Loss: 3.74049711227417\n",
            "Train Loss: 3.733306646347046\n",
            "Train Loss: 3.803800344467163\n",
            "Train Loss: 3.9202239513397217\n",
            "Epoch finished in: 273.78666162490845 secs\n",
            "| Epoch: 012 | Train Loss: 3.760 | Train PPL:  42.953 | Val. Loss: 4.165 | Val. PPL:  64.418 |\n",
            "Train Loss: 3.6145482063293457\n",
            "Train Loss: 3.5286693572998047\n",
            "Train Loss: 3.679042339324951\n",
            "Train Loss: 3.5704855918884277\n",
            "Train Loss: 3.6679251194000244\n",
            "Train Loss: 3.6208531856536865\n",
            "Train Loss: 3.9034264087677\n",
            "Train Loss: 3.680361270904541\n",
            "Train Loss: 3.7905497550964355\n",
            "Train Loss: 3.7808496952056885\n",
            "Train Loss: 3.7967522144317627\n",
            "Epoch finished in: 269.9114656448364 secs\n",
            "| Epoch: 013 | Train Loss: 3.681 | Train PPL:  39.697 | Val. Loss: 4.135 | Val. PPL:  62.473 |\n",
            "Train Loss: 3.9461402893066406\n",
            "Train Loss: 3.47224760055542\n",
            "Train Loss: 3.5557076930999756\n",
            "Train Loss: 3.6271822452545166\n",
            "Train Loss: 3.5239078998565674\n",
            "Train Loss: 4.075366497039795\n",
            "Train Loss: 3.5426418781280518\n"
          ],
          "name": "stdout"
        }
      ]
    },
    {
      "cell_type": "markdown",
      "metadata": {
        "colab_type": "text",
        "id": "J76JyRiYvRxg"
      },
      "source": [
        "# Load model"
      ]
    },
    {
      "cell_type": "code",
      "metadata": {
        "id": "-zs4_3hwZszq",
        "colab_type": "code",
        "colab": {}
      },
      "source": [
        "INPUT_DIM = len(SRC.vocab)\n",
        "OUTPUT_DIM = len(TRG.vocab)\n",
        "ENC_EMB_DIM = 256   # encoder embedding size\n",
        "DEC_EMB_DIM = 256   # decoder embedding size (can be different from encoder embedding size)\n",
        "HID_DIM = 256       # hidden dimension (must be same for encoder & decoder)\n",
        "N_LAYERS = 2        # number of rnn layers (must be same for encoder & decoder)\n",
        "ENC_DROPOUT = 0.5   # encoder dropout\n",
        "DEC_DROPOUT = 0.5   # decoder dropout (can be different from encoder droput)\n",
        "\n",
        "# Set up Model\n",
        "enc = Encoder(INPUT_DIM, ENC_EMB_DIM, HID_DIM, N_LAYERS, ENC_DROPOUT).to(device)\n",
        "dec = AttentionDecoder(DEC_EMB_DIM, OUTPUT_DIM, HID_DIM, N_LAYERS, DEC_DROPOUT).to(device)\n",
        "model = Seq2Seq(enc, dec).to(device)\n",
        "\n",
        "# Set up optimizer and loss function\n",
        "optimizer = optim.Adam(model.parameters())\n",
        "criterion = nn.CrossEntropyLoss(ignore_index=TRG.vocab.stoi['<pad>'])"
      ],
      "execution_count": 0,
      "outputs": []
    },
    {
      "cell_type": "code",
      "metadata": {
        "id": "DaFWinWCvS0S",
        "colab_type": "code",
        "colab": {}
      },
      "source": [
        "model_name = data_dir + 'rnn_att_256.pt'"
      ],
      "execution_count": 0,
      "outputs": []
    },
    {
      "cell_type": "code",
      "metadata": {
        "colab_type": "code",
        "id": "M2Rbk1ugvTHW",
        "colab": {}
      },
      "source": [
        "# load the parameters(state_dict) that gave the best validation loss and run the model to test.\n",
        "model.load_state_dict(torch.load(model_name, map_location=device))"
      ],
      "execution_count": 0,
      "outputs": []
    },
    {
      "cell_type": "code",
      "metadata": {
        "id": "-04lgTa4pjyn",
        "colab_type": "code",
        "outputId": "0f7f0b6d-a67d-4b50-957a-979a7153a993",
        "colab": {
          "base_uri": "https://localhost:8080/",
          "height": 34
        }
      },
      "source": [
        "test_loss = evaluate(model, valid_iterator, criterion)\n",
        "print(f'| Test Loss: {test_loss:.3f} | Test PPL: {math.exp(test_loss):7.3f} |')"
      ],
      "execution_count": 0,
      "outputs": [
        {
          "output_type": "stream",
          "text": [
            "| Test Loss: 3.487 | Test PPL:  32.692 |\n"
          ],
          "name": "stdout"
        }
      ]
    },
    {
      "cell_type": "markdown",
      "metadata": {
        "id": "jJuztBEC45Wv",
        "colab_type": "text"
      },
      "source": [
        "# Plot losses"
      ]
    },
    {
      "cell_type": "code",
      "metadata": {
        "id": "8tzXs-Ie441G",
        "colab_type": "code",
        "colab": {}
      },
      "source": [
        "import matplotlib.pyplot as plt\n",
        "import pickle\n",
        "import matplotlib\n",
        "font = {'size'   : 22, }\n",
        "matplotlib.rc('font', **font)\n",
        "\n",
        "def plot_losses(filepath, title='Training error'):\n",
        "    modelname = filepath.split('.')[0]\n",
        "    train_loss, val_loss = pickle.load(open(filepath, 'rb'))\n",
        "    \n",
        "    plt.figure(figsize=[20,10])\n",
        "    plt.xlabel('Epoch')\n",
        "    plt.ylabel('CE Loss')\n",
        "    plt.title(title)\n",
        "    plt.plot(train_loss, linewidth=5)\n",
        "    plt.plot(val_loss, linewidth=5)\n",
        "    plt.legend(['train', 'val'])\n",
        "    plt.savefig(modelname + '.png')\n",
        "    plt.show()\n",
        "    \n",
        "    print('min val loss:', min(val_loss))"
      ],
      "execution_count": 0,
      "outputs": []
    },
    {
      "cell_type": "code",
      "metadata": {
        "id": "0w2-zbTV42bj",
        "colab_type": "code",
        "outputId": "add57132-214a-449c-acf1-250e64c3d432",
        "colab": {
          "base_uri": "https://localhost:8080/",
          "height": 669
        }
      },
      "source": [
        "plot_losses(data_dir + 'rnn-50-losses.pickle')"
      ],
      "execution_count": 0,
      "outputs": [
        {
          "output_type": "display_data",
          "data": {
            "image/png": "[encoded data removed]",
            "text/plain": [
              "<Figure size 1440x720 with 1 Axes>"
            ]
          },
          "metadata": {
            "tags": []
          }
        },
        {
          "output_type": "stream",
          "text": [
            "min val loss: 3.4871419072151184\n"
          ],
          "name": "stdout"
        }
      ]
    },
    {
      "cell_type": "code",
      "metadata": {
        "id": "dnBf6xPBC3Hl",
        "colab_type": "code",
        "colab": {}
      },
      "source": [
        "def flatten_batch_iterator(iterator):\n",
        "    'Flattens a batch iterator to a list'\n",
        "    flat = []\n",
        "    for batch in iterator:\n",
        "        flat += [row for row in batch]\n",
        "    return flat\n",
        "\n",
        "def find_pair(LANG, id_array, txt, ids):\n",
        "    x = remove_tags(LANG, id_array)\n",
        "    i = ids.index(x)\n",
        "    return txt[i]\n",
        "\n",
        "def tokens_to_tensor(LANG, tokens, reverse=False):\n",
        "    idx = [LANG.vocab.stoi[t] for t in tokens]\n",
        "    if reverse: idx = list(reversed(idx))\n",
        "    return idx\n",
        "\n",
        "def remove_tags(LANG, idx):\n",
        "    ignore = [LANG.vocab.stoi['<pad>'], LANG.vocab.stoi['<sos>'], LANG.vocab.stoi['<eos>'], LANG.vocab.stoi['zune']]\n",
        "    return [i for i in idx if i not in ignore]\n",
        "\n",
        "def tensor_to_tokens(LANG, tensor, reverse=False):\n",
        "    tensor = remove_tags(LANG, tensor)\n",
        "    tokens = [LANG.vocab.itos[x] for x in tensor]\n",
        "    tokens = list(reversed(tokens)) if reverse else tokens\n",
        "    return tokens\n",
        "\n",
        "def get_pred_tar_pairs(model, batch_iter):\n",
        "    'predict on batches and finds the untouched txt sentence which matches the target.'\n",
        "    TARS = []\n",
        "    PREDS = []\n",
        "    SRCS = []\n",
        "\n",
        "    with torch.no_grad():\n",
        "        for batch in valid_iterator:  \n",
        "            src = batch.src\n",
        "            trg = batch.trg\n",
        "\n",
        "            # Forward pass\n",
        "            output = model(src, trg)\n",
        "            \n",
        "            # Argmax over vocab and get the predicted tokens\n",
        "            pred = output.argmax(dim=2)\n",
        "            \n",
        "            for x in pred.transpose(0,1):\n",
        "                # Convert predicted token to tensor\n",
        "                pred_tokens = tensor_to_tokens(TRG, x)\n",
        "                PREDS.append(pred_tokens)\n",
        "            \n",
        "            for x in trg.transpose(0,1):\n",
        "                # Find the untouched sentence in the validation set\n",
        "                x = x.tolist()\n",
        "                tar_tokens = find_pair(TRG, x, valid_trg_txt, valid_trg_idx)\n",
        "                TARS.append(tar_tokens)\n",
        "    \n",
        "    return PREDS, TARS\n",
        "\n",
        "from torchnlp.metrics import get_moses_multi_bleu\n",
        "def bleu(tar, pred): \n",
        "    'Calculates moses bleu given two arrays of str tokens'\n",
        "    tar, pred = ' '.join(tar), ' '.join(pred)\n",
        "    return get_moses_multi_bleu([tar], [pred])\n",
        "\n",
        "def bleu_scoring(model, valid_iter):\n",
        "    print('Predicting on batches...')\n",
        "    preds, tars = get_pred_tar_pairs(model, valid_iter)\n",
        "\n",
        "    print('Computing bleus')\n",
        "    bleu_scores = np.array([bleu(tar, pred) for pred, tar in zip(preds, tars)])\n",
        "    bleu_scores = bleu_scores[bleu_scores != None] # Filter out division by 0 errors\n",
        "\n",
        "    mean_bleu = bleu_scores.mean()\n",
        "    print('-'*50)\n",
        "    print('Mean validation BLEU:', mean_bleu)\n",
        "    print('-'*50)\n",
        "\n",
        "    for target, predicted in list(zip(tars, preds))[:10]:\n",
        "        print('Target (eng):', ' '.join(target))\n",
        "        print('Predicted (eng):', ' '.join(predicted))\n",
        "        print(' ')\n",
        "\n",
        "    return preds, tars, bleu_scores, mean_bleu"
      ],
      "execution_count": 0,
      "outputs": []
    },
    {
      "cell_type": "code",
      "metadata": {
        "id": "zKZ_6eTHC-Bc",
        "colab_type": "code",
        "colab": {}
      },
      "source": [
        "# Count number of sentences in test set\n",
        "n_test = len(test_data.examples)\n",
        "\n",
        "# extract the text sentences from the test set\n",
        "test_src_txt = [test_data.examples[i].src for i in range(n_test)]\n",
        "test_trg_txt = [test_data.examples[i].trg for i in range(n_test)]\n",
        "\n",
        "# extract the word-index sentences from the test set\n",
        "test_src_idx = [tokens_to_tensor(SRC, test_src_txt[i]) for i in range(n_test)]\n",
        "test_trg_idx = [tokens_to_tensor(TRG, test_trg_txt[i]) for i in range(n_test)]"
      ],
      "execution_count": 0,
      "outputs": []
    },
    {
      "cell_type": "code",
      "metadata": {
        "id": "RwUAW59rDgIm",
        "colab_type": "code",
        "outputId": "4d889759-b4c4-4874-8025-b797b785193f",
        "colab": {
          "base_uri": "https://localhost:8080/",
          "height": 612
        }
      },
      "source": [
        "preds, tars, bleu_scores, mean_bleu = bleu_scoring(model, test_iterator)"
      ],
      "execution_count": 53,
      "outputs": [
        {
          "output_type": "stream",
          "text": [
            "Predicting on batches...\n",
            "Computing bleus\n",
            "--------------------------------------------------\n",
            "Mean validation BLEU: 10.569014\n",
            "--------------------------------------------------\n",
            "Target (eng): people protesting age discrimination in an organized street rally .\n",
            "Predicted (eng): people are in a <unk> a <unk> <unk> . .\n",
            " \n",
            "Target (eng): two people are riding their bicycles on a dirt road\n",
            "Predicted (eng): two people riding riding bikes bikes on a road road .\n",
            " \n",
            "Target (eng): a man dressed in green snowboarding on a bench .\n",
            "Predicted (eng): a man in black rides rides on a a .\n",
            " \n",
            "Target (eng): one boy hoists another boy up on his back .\n",
            "Predicted (eng): a boy is another boy boy on his shoulders .\n",
            " \n",
            "Target (eng): a waitress stands behind a counter full of cakes .\n",
            "Predicted (eng): a <unk> is standing a a with of <unk> . .\n",
            " \n",
            "Target (eng): two boys in a tent smile for the camera .\n",
            "Predicted (eng): two boys in a smile smile for the camera .\n",
            " \n",
            "Target (eng): one older man interviews another in a racing suit .\n",
            "Predicted (eng): an older man is a man in a . .\n",
            " \n",
            "Target (eng): a dog in a grassy field , looking up .\n",
            "Predicted (eng): a dog on a field field holding is to .\n",
            " \n",
            "Target (eng): girl in white shirt blowing bubbles in dark room .\n",
            "Predicted (eng): girl in white shirt is bubbles in in . .\n",
            " \n",
            "Target (eng): a man in a gray t - shirt rests .\n",
            "Predicted (eng): a man in a white shirt - shirt is . .\n",
            " \n"
          ],
          "name": "stdout"
        }
      ]
    }
  ]
}