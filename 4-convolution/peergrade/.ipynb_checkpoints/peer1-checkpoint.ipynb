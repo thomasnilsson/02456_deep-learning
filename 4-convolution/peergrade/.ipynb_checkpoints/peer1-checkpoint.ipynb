{
  "nbformat": 4,
  "nbformat_minor": 0,
  "metadata": {
    "accelerator": "GPU",
    "colab": {
      "name": "4.3-EXE-CIFAR-10.ipynb",
      "provenance": [],
      "collapsed_sections": []
    },
    "kernelspec": {
      "display_name": "Python 3",
      "language": "python",
      "name": "python3"
    },
    "language_info": {
      "codemirror_mode": {
        "name": "ipython",
        "version": 3
      },
      "file_extension": ".py",
      "mimetype": "text/x-python",
      "name": "python",
      "nbconvert_exporter": "python",
      "pygments_lexer": "ipython3",
      "version": "3.7.4"
    }
  },
  "cells": [
    {
      "cell_type": "markdown",
      "metadata": {
        "colab_type": "text",
        "id": "bu1Wy6Xb81Sn"
      },
      "source": [
        "# Credits\n",
        "\n",
        "This is heavily influenced from https://github.com/pytorch/tutorials"
      ]
    },
    {
      "cell_type": "markdown",
      "metadata": {
        "colab_type": "text",
        "id": "oZW0gaQO81Sq"
      },
      "source": [
        "# CIFAR-10\n",
        "\n",
        "In thins notebook you need to put what you have learned into practice, and create your own convolutional classifier for the CIFAR-10 dataset.\n",
        "\n",
        "It has the classes: ‘airplane’, ‘automobile’, ‘bird’, ‘cat’, ‘deer’, ‘dog’, ‘frog’, ‘horse’, ‘ship’, ‘truck’.\n",
        "The images in CIFAR-10 are of size 3x32x32, i.e. 3-channel color images of 32x32 pixels in size.\n",
        "\n",
        "![cifar10](https://github.com/DeepLearningDTU/02456-deep-learning-with-PyTorch/blob/master/static_files/cifar10.png?raw=1)\n",
        "\n",
        "\n",
        "In order to train a classifier the following steps needs to be performed:\n",
        "\n",
        "1. Load and normalizing the CIFAR10 training and test datasets using\n",
        "   ``torchvision``\n",
        "2. Define a Convolutional Neural Network\n",
        "3. Define a loss function\n",
        "4. Train the network on the training data\n",
        "5. Test the network on the test data\n",
        "\n",
        "We will help you along the way.\n",
        "We indicate the places you need to modify the code with `# Your code here!`.\n",
        "It is however a good idea to read the entire assignment before you begin coding!"
      ]
    },
    {
      "cell_type": "markdown",
      "metadata": {
        "colab_type": "text",
        "id": "htyg7xxN81St"
      },
      "source": [
        "## 1. Loading and normalizing CIFAR10\n",
        "\n",
        "Using ``torchvision``, it’s extremely easy to load CIFAR10."
      ]
    },
    {
      "cell_type": "code",
      "metadata": {
        "colab_type": "code",
        "id": "v3u2GIWr81Su",
        "colab": {}
      },
      "source": [
        "%matplotlib inline\n",
        "import matplotlib.pyplot as plt\n",
        "import numpy as np\n",
        "\n",
        "import torch\n",
        "import torchvision\n",
        "import torchvision.transforms as transforms"
      ],
      "execution_count": 0,
      "outputs": []
    },
    {
      "cell_type": "markdown",
      "metadata": {
        "colab_type": "text",
        "id": "xx5SHRkm81S0"
      },
      "source": [
        "The output of torchvision datasets are PILImage images of range [0, 1].\n",
        "We transform them to Tensors of normalized range [-1, 1]\n",
        "\n",
        "**NB** Modify the code below to only use a small part of the dataset if your computer is very slow."
      ]
    },
    {
      "cell_type": "code",
      "metadata": {
        "colab_type": "code",
        "id": "QZeTujLC81S3",
        "outputId": "48aaa9b2-0505-43cd-a152-210a18dc8312",
        "colab": {
          "base_uri": "https://localhost:8080/",
          "height": 86
        }
      },
      "source": [
        "transform = transforms.Compose(\n",
        "    [transforms.ToTensor(),\n",
        "     transforms.Normalize((0.5, 0.5, 0.5),\n",
        "                          (0.5, 0.5, 0.5))]\n",
        ")\n",
        "\n",
        "# Load dataset\n",
        "trainset = torchvision.datasets.CIFAR10(root='./data', train=True,\n",
        "                                        download=True, transform=transform)\n",
        "testset = torchvision.datasets.CIFAR10(root='./data', train=False,\n",
        "                                       download=True, transform=transform)\n",
        "\n",
        "classes = ('plane', 'car', 'bird', 'cat', 'deer',\n",
        "           'dog', 'frog', 'horse', 'ship', 'truck')\n",
        "\n",
        "used_categories = range(len(classes))\n",
        "\n",
        "## USE CODE BELOW IF YOUR COMPUTER IS TOO SLOW\n",
        "reduce_dataset = True\n",
        "if reduce_dataset:\n",
        "    used_categories = (3, 5) # cats and dogs\n",
        "\n",
        "    classes = [classes[i] for i in used_categories]\n",
        "    new_train_data = []\n",
        "    new_train_labels = []\n",
        "\n",
        "    new_test_data = []\n",
        "    new_test_labels = []\n",
        "    for i, t in enumerate(used_categories):\n",
        "        new_train_data.append(trainset.data[np.where(np.array(trainset.targets) == t)])\n",
        "        new_train_labels += [i for _ in range(new_train_data[-1].shape[0])]\n",
        "\n",
        "        new_test_data.append(testset.data[np.where(np.array(testset.targets) == t)])\n",
        "        new_test_labels += [i for _ in range(new_test_data[-1].shape[0])]\n",
        "\n",
        "    new_train_data = np.concatenate(new_train_data, 0)\n",
        "    trainset.data = new_train_data\n",
        "    trainset.targets = new_train_labels\n",
        "\n",
        "    new_test_data = np.concatenate(new_test_data, 0)\n",
        "    testset.data = new_test_data\n",
        "    testset.targets = new_test_labels\n",
        "\n",
        "\"\"\"\n",
        "## USE CODE BELOW IF YOUR COMPUTER IS TOO SLOW\n",
        "reduce_dataset = True\n",
        "if reduce_dataset:\n",
        "    used_categories = (3, 5) # cats and dogs\n",
        "\n",
        "    classes = [classes[i] for i in used_categories]\n",
        "    new_train_data = []\n",
        "    new_train_labels = []\n",
        "\n",
        "    new_test_data = []\n",
        "    new_test_labels = []\n",
        "    for i, t in enumerate(used_categories):\n",
        "        new_train_data.append(trainset.data[np.where(np.array(trainset.targets) == t)])\n",
        "        new_train_labels += [i for _ in range(new_train_data[-1].shape[0])]\n",
        "\n",
        "        new_test_data.append(testset.data[np.where(np.array(testset.targets) == t)])\n",
        "        new_test_labels += [i for _ in range(new_test_data[-1].shape[0])]\n",
        "\n",
        "    new_train_data = np.concatenate(new_train_data, 0)\n",
        "    trainset.train_data = new_train_data\n",
        "    trainset.train_labels = new_train_labels\n",
        "\n",
        "    new_test_data = np.concatenate(new_test_data, 0)\n",
        "    testset.test_data = new_test_data\n",
        "    testset.test_labels = new_test_labels\n",
        "\"\"\"\n",
        "    \n",
        "trainloader = torch.utils.data.DataLoader(trainset, batch_size=4,\n",
        "                                          shuffle=True, num_workers=2)\n",
        "testloader = torch.utils.data.DataLoader(testset, batch_size=4,\n",
        "                                         shuffle=True, num_workers=2)\n",
        "train_data_iter = iter(trainloader)\n",
        "test_data_iter = iter(testloader)\n",
        "print('used classes:', classes)"
      ],
      "execution_count": 2,
      "outputs": [
        {
          "output_type": "stream",
          "text": [
            "\r0it [00:00, ?it/s]"
          ],
          "name": "stderr"
        },
        {
          "output_type": "stream",
          "text": [
            "Downloading https://www.cs.toronto.edu/~kriz/cifar-10-python.tar.gz to ./data/cifar-10-python.tar.gz\n"
          ],
          "name": "stdout"
        },
        {
          "output_type": "stream",
          "text": [
            "170500096it [00:06, 27627364.04it/s]                               \n"
          ],
          "name": "stderr"
        },
        {
          "output_type": "stream",
          "text": [
            "Files already downloaded and verified\n",
            "used classes: ['cat', 'dog']\n"
          ],
          "name": "stdout"
        }
      ]
    },
    {
      "cell_type": "code",
      "metadata": {
        "colab_type": "code",
        "id": "JDHkc52L81S9",
        "outputId": "d4e1e089-c1e4-4f5c-cbdf-fda5d770b466",
        "colab": {
          "base_uri": "https://localhost:8080/",
          "height": 1000
        }
      },
      "source": [
        "import collections\n",
        "print(\"Training data\")\n",
        "print(trainset.data.shape)\n",
        "print(len(trainset.targets))\n",
        "print(collections.Counter(trainset.targets)) #Entire dataset\n",
        "print(\"Test data\")\n",
        "print(testset.data.shape)\n",
        "print(len(testset.targets))\n",
        "print()\n",
        "#print(collections.Counter(testset.test_labels)) #Only cats and dogs\n",
        "\n",
        "print(trainset.data[0])\n"
      ],
      "execution_count": 3,
      "outputs": [
        {
          "output_type": "stream",
          "text": [
            "Training data\n",
            "(10000, 32, 32, 3)\n",
            "10000\n",
            "Counter({0: 5000, 1: 5000})\n",
            "Test data\n",
            "(2000, 32, 32, 3)\n",
            "2000\n",
            "\n",
            "[[[125 125 116]\n",
            "  [110 101  91]\n",
            "  [102  90  83]\n",
            "  ...\n",
            "  [202 207 214]\n",
            "  [200 205 212]\n",
            "  [202 208 214]]\n",
            "\n",
            " [[142 146 142]\n",
            "  [146 144 139]\n",
            "  [176 172 170]\n",
            "  ...\n",
            "  [195 201 205]\n",
            "  [198 205 209]\n",
            "  [204 211 215]]\n",
            "\n",
            " [[180 185 183]\n",
            "  [143 146 146]\n",
            "  [156 157 157]\n",
            "  ...\n",
            "  [122 111 113]\n",
            "  [139 128 131]\n",
            "  [158 147 150]]\n",
            "\n",
            " ...\n",
            "\n",
            " [[104  82  41]\n",
            "  [101  80  39]\n",
            "  [101  81  38]\n",
            "  ...\n",
            "  [126 103  67]\n",
            "  [126 103  69]\n",
            "  [125 101  68]]\n",
            "\n",
            " [[104  81  40]\n",
            "  [105  84  41]\n",
            "  [109  88  43]\n",
            "  ...\n",
            "  [138 113  78]\n",
            "  [137 113  80]\n",
            "  [137 112  81]]\n",
            "\n",
            " [[105  83  42]\n",
            "  [108  87  45]\n",
            "  [115  94  50]\n",
            "  ...\n",
            "  [143 117  82]\n",
            "  [143 116  84]\n",
            "  [144 116  86]]]\n"
          ],
          "name": "stdout"
        }
      ]
    },
    {
      "cell_type": "markdown",
      "metadata": {
        "colab_type": "text",
        "id": "xSA1h94681TB"
      },
      "source": [
        " Let us show some of the training images, for fun.\n",
        "\n"
      ]
    },
    {
      "cell_type": "code",
      "metadata": {
        "colab_type": "code",
        "id": "njJy0klP81TD",
        "outputId": "db5e7df7-a89f-450a-e2d9-52db845f0ef6",
        "colab": {
          "base_uri": "https://localhost:8080/",
          "height": 157
        }
      },
      "source": [
        "# Run this cell multiple time to see more samples\n",
        "classes = ('plane', 'car', 'bird', 'cat', 'deer',\n",
        "           'dog', 'frog', 'horse', 'ship', 'truck')\n",
        "\n",
        "def imshow(img):\n",
        "    \"\"\" show an image \"\"\"\n",
        "    img = img / 2 + 0.5 # unnormalize\n",
        "    npimg = img.numpy()\n",
        "    plt.imshow(np.transpose(npimg, (1, 2, 0)))\n",
        "\n",
        "\n",
        "# get some random training images\n",
        "images, labels = train_data_iter.next()\n",
        "\n",
        "# show images\n",
        "imshow(torchvision.utils.make_grid(images))\n",
        "\n",
        "# print labels\n",
        "print(' '.join('%5s' % classes[labels[j]] for j in range(4)))"
      ],
      "execution_count": 0,
      "outputs": [
        {
          "output_type": "stream",
          "text": [
            "  car plane plane plane\n"
          ],
          "name": "stdout"
        },
        {
          "output_type": "display_data",
          "data": {
            "image/png": "[encoded data removed]",
            "text/plain": [
              "<Figure size 432x288 with 1 Axes>"
            ]
          },
          "metadata": {
            "tags": []
          }
        }
      ]
    },
    {
      "cell_type": "markdown",
      "metadata": {
        "colab_type": "text",
        "id": "Wt3BVFMF81TI"
      },
      "source": [
        "## 2. Define a Convolutional Neural Network\n",
        "\n",
        "**Assignment 1:** Define a convolutional neural network. \n",
        "You may use the code from previous notebooks.\n",
        "We suggest that you start with a small network, and make sure that everything is working.\n",
        "Once you can train successfully come back and improve the architecture"
      ]
    },
    {
      "cell_type": "code",
      "metadata": {
        "id": "t9-HRotz-JS5",
        "colab_type": "code",
        "colab": {}
      },
      "source": [
        "from torch.autograd import Variable\n",
        "import torch.nn as nn\n",
        "import torch.nn.functional as F\n",
        "\n",
        "from torch.nn import Linear, Conv2d, BatchNorm2d, MaxPool2d, Dropout2d\n",
        "from torch.nn.functional import relu, elu, relu6, sigmoid, tanh, softmax"
      ],
      "execution_count": 0,
      "outputs": []
    },
    {
      "cell_type": "code",
      "metadata": {
        "colab_type": "code",
        "id": "_EsKbw3o81TK",
        "outputId": "e5210265-f0f2-40f6-89af-eaba4977ef28",
        "colab": {
          "base_uri": "https://localhost:8080/",
          "height": 191
        }
      },
      "source": [
        "x_train=trainset.data # only cats and dogs use trainset.data \n",
        "                            # for all classes\n",
        "\n",
        "# hyperameters of the model\n",
        "num_classes = 2\n",
        "channels = x_train.shape[3] #3\n",
        "height = x_train.shape[1] #1\n",
        "width = x_train.shape[2] #2\n",
        "      #print(\"Training data\")\n",
        "      #print(trainset.data.shape)\n",
        "      #(50000, 32, 32, 3) 10000 color images 32 x 32\n",
        "num_filters_conv1 = 6 \n",
        "kernel_size_conv1 = 5 # [height, width]\n",
        "stride_conv1 = 1 # [stride_height, stride_width]\n",
        "num_filters_conv2 = 16 \n",
        "kernel_size_conv2 = 5 # [height, width]\n",
        "stride_conv2 = 1\n",
        "num_l1 = 100\n",
        "num_l2 = 10\n",
        "padding_conv1 = 2\n",
        "padding_conv2 = 2\n",
        "\n",
        "\n",
        "\n",
        "def compute_conv_dim(dim_size):\n",
        "    return int((dim_size - kernel_size_conv1 + 2 * padding_conv1) / stride_conv1 + 1)\n",
        "\n",
        "#define network\n",
        "class Net(nn.Module):\n",
        "    def __init__(self, num_classes):\n",
        "        super(Net, self).__init__()\n",
        "        self.num_classes = num_classes\n",
        "        \n",
        "        # Your code here!\n",
        "        self.conv_1 = Conv2d(in_channels=channels,\n",
        "                             out_channels=num_filters_conv1,\n",
        "                             kernel_size=kernel_size_conv1,\n",
        "                             stride=stride_conv1,\n",
        "                             padding=(padding_conv1,padding_conv1))\n",
        "        \n",
        "        #self.conv_out_height = compute_conv_dim(height)\n",
        "        #self.conv_out_width = compute_conv_dim(width)\n",
        "        \n",
        "        self.maxpool1 = MaxPool2d(kernel_size=2)\n",
        "        self.dropout = Dropout2d(p=0.5)\n",
        "\n",
        "        #conv2\n",
        "        self.conv_2 = Conv2d(in_channels=num_filters_conv1,\n",
        "                             out_channels=num_filters_conv2,\n",
        "                             kernel_size=kernel_size_conv2,\n",
        "                             stride=stride_conv2,\n",
        "                             padding=(padding_conv2,padding_conv2))\n",
        "        \n",
        "        \n",
        "        \n",
        "        # add dropout to network\n",
        "        self.dropout = Dropout2d(p=0.5)\n",
        "        self.maxpool1 = MaxPool2d(kernel_size=2)\n",
        "        self.bn1=BatchNorm2d(12544)\n",
        "        \n",
        "        self.conv_out_height = compute_conv_dim(height)\n",
        "        self.conv_out_width = compute_conv_dim(width)\n",
        "        \n",
        "        #self.l1_in_features = channels * height * width\n",
        "        self.l1_in_features = num_filters_conv2 * self.conv_out_height * self.conv_out_width\n",
        "        #self.l2_in_features = num_filters_conv2 * self.conv_out_height * self.conv_out_width\n",
        "        \n",
        "        self.l_1 = Linear(in_features=self.l1_in_features, \n",
        "                          out_features=num_l1,\n",
        "                          bias=True)\n",
        "        self.l_2 = Linear(in_features=num_l1, \n",
        "                            out_features=num_l2,\n",
        "                            bias=False)\n",
        "        \n",
        "        self.l_out = Linear(in_features=num_l2, \n",
        "                            out_features=num_classes,\n",
        "                            bias=False)\n",
        "\n",
        "    def forward(self, x):\n",
        "        # Your code here!\n",
        "        x = relu(self.conv_1(x))\n",
        "        #print(x.size()) #= [batch, channel, height, width]\n",
        "        \n",
        "        x = relu(self.conv_2(x))\n",
        "        \n",
        "        x = x.view(-1, self.l1_in_features)\n",
        "        x = relu(self.l_1(x))\n",
        "        x = torch.sigmoid(self.l_2(x))\n",
        "        \n",
        "        return torch.tanh(self.l_out(x)) #x relu(self.l_out(x), dim=1)\n",
        "    \n",
        "\n",
        "net = Net(len(used_categories))\n",
        "print(net)\n"
      ],
      "execution_count": 89,
      "outputs": [
        {
          "output_type": "stream",
          "text": [
            "Net(\n",
            "  (conv_1): Conv2d(3, 6, kernel_size=(5, 5), stride=(1, 1), padding=(2, 2))\n",
            "  (maxpool1): MaxPool2d(kernel_size=2, stride=2, padding=0, dilation=1, ceil_mode=False)\n",
            "  (dropout): Dropout2d(p=0.5)\n",
            "  (conv_2): Conv2d(6, 16, kernel_size=(5, 5), stride=(1, 1), padding=(2, 2))\n",
            "  (bn1): BatchNorm2d(12544, eps=1e-05, momentum=0.1, affine=True, track_running_stats=True)\n",
            "  (l_1): Linear(in_features=16384, out_features=100, bias=True)\n",
            "  (l_2): Linear(in_features=100, out_features=10, bias=False)\n",
            "  (l_out): Linear(in_features=10, out_features=2, bias=False)\n",
            ")\n"
          ],
          "name": "stdout"
        }
      ]
    },
    {
      "cell_type": "markdown",
      "metadata": {
        "colab_type": "text",
        "id": "7-IUg3sq81TQ"
      },
      "source": [
        "## 3. Define a Loss function and optimizer\n",
        "\n",
        "**Assignment 2:** Implement the criterion and optimizer. \n",
        "We suggest Classification Cross-Entropy loss and SGD with momentum.\n",
        "You might need to experiment a bit with the learning rate."
      ]
    },
    {
      "cell_type": "code",
      "metadata": {
        "colab_type": "code",
        "id": "48AX85QP81TR",
        "colab": {}
      },
      "source": [
        "import torch.optim as optim\n",
        "\n",
        "criterion = nn.CrossEntropyLoss()  # Your code here!\n",
        "optimizer = optim.SGD(net.parameters(), lr=0.001,momentum=0.7)  # Your code here!"
      ],
      "execution_count": 0,
      "outputs": []
    },
    {
      "cell_type": "markdown",
      "metadata": {
        "colab_type": "text",
        "id": "-WneIN7C81TV"
      },
      "source": [
        "## 4. Train the network\n",
        "\n",
        "**Assignment 3:** Finish the training loop below. \n",
        "Start by using a small number of epochs (e.g. 3).\n",
        "Even with a low number of epochs you should be able to see results that are better than chance.\n",
        "When everything is working increase the number of epochs to find out how good your network really is."
      ]
    },
    {
      "cell_type": "code",
      "metadata": {
        "colab_type": "code",
        "id": "NkUanRRb81TW",
        "outputId": "08c75096-f63e-4090-c158-561d5754178e",
        "colab": {
          "base_uri": "https://localhost:8080/",
          "height": 555
        }
      },
      "source": [
        "num_epoch = 15 # Your code here!\n",
        "\n",
        "\n",
        "# zero the parameter gradients\n",
        "train_acc, train_loss = [], []\n",
        "valid_acc, valid_loss = [], []\n",
        "test_acc, test_loss = [], []\n",
        "cur_loss = 0\n",
        "losses = []\n",
        "\n",
        "get_slice = lambda i, size: range(i * size, (i + 1) * size)\n",
        "\n",
        "for epoch in range(num_epoch):  # loop over the dataset multiple times\n",
        "\n",
        "    running_loss = 0.0\n",
        "    net.train()\n",
        "    #make minibatch\n",
        "    for i, data in enumerate(trainloader, 0):\n",
        "        # get the inputs\n",
        "        inputs, labels = data\n",
        "        \n",
        "\n",
        "        # wrap them in Variable\n",
        "        inputs, labels = Variable(inputs), Variable(labels)\n",
        "        #print(labels)\n",
        "\n",
        "        #print(labels)\n",
        "        #print(inputs[0].shape)\n",
        "        # zero the parameter gradients\n",
        "        # Your code here!\n",
        "        #done at the begining\n",
        "\n",
        "        # forward + backward + optimize\n",
        "        # Your code here!\n",
        "        \n",
        "        output = net(inputs)\n",
        "        #print(output)\n",
        "        # compute gradients given loss\n",
        "        loss = criterion(output, labels)\n",
        "        optimizer.zero_grad()\n",
        "        loss.backward()\n",
        "        optimizer.step()\n",
        "        #print(loss)    \n",
        "        #cur_loss += loss   \n",
        "    #losses.append(cur_loss / batch_size)\n",
        "    \n",
        "            \n",
        "        # print statistics\n",
        "        running_loss += loss.item() #tensor.item(batch_loss[0]) #loss.data[0]\n",
        "        if i % 1000 == 999:    # print every 1000 mini-batches\n",
        "            print('[%d, %5d] loss: %.3f' %\n",
        "                  (epoch + 1, i + 1, running_loss / 1000))\n",
        "            running_loss = 0.0\n",
        "\n",
        "print('Finished Training')"
      ],
      "execution_count": 100,
      "outputs": [
        {
          "output_type": "stream",
          "text": [
            "[1,  1000] loss: 0.642\n",
            "[1,  2000] loss: 0.644\n",
            "[2,  1000] loss: 0.638\n",
            "[2,  2000] loss: 0.645\n",
            "[3,  1000] loss: 0.641\n",
            "[3,  2000] loss: 0.635\n",
            "[4,  1000] loss: 0.645\n",
            "[4,  2000] loss: 0.639\n",
            "[5,  1000] loss: 0.635\n",
            "[5,  2000] loss: 0.637\n",
            "[6,  1000] loss: 0.637\n",
            "[6,  2000] loss: 0.634\n",
            "[7,  1000] loss: 0.639\n",
            "[7,  2000] loss: 0.629\n",
            "[8,  1000] loss: 0.638\n",
            "[8,  2000] loss: 0.634\n",
            "[9,  1000] loss: 0.631\n",
            "[9,  2000] loss: 0.631\n",
            "[10,  1000] loss: 0.627\n",
            "[10,  2000] loss: 0.635\n",
            "[11,  1000] loss: 0.621\n",
            "[11,  2000] loss: 0.634\n",
            "[12,  1000] loss: 0.625\n",
            "[12,  2000] loss: 0.627\n",
            "[13,  1000] loss: 0.623\n",
            "[13,  2000] loss: 0.627\n",
            "[14,  1000] loss: 0.619\n",
            "[14,  2000] loss: 0.626\n",
            "[15,  1000] loss: 0.623\n",
            "[15,  2000] loss: 0.624\n",
            "Finished Training\n"
          ],
          "name": "stdout"
        }
      ]
    },
    {
      "cell_type": "markdown",
      "metadata": {
        "colab_type": "text",
        "id": "0qAsbC8I81Ta"
      },
      "source": [
        "## 5. Test the network on the test data\n",
        "\n",
        "Now we need to check if the network has learnt anything at all.\n",
        "We will check this by predicting the class label that the neural network outputs, and checking it against the ground truth.\n",
        "If the prediction is correct, we add the sample to the list of correct predictions.\n",
        "\n",
        "Okay, first step. Let us display an image from the test set to get familiar."
      ]
    },
    {
      "cell_type": "code",
      "metadata": {
        "colab_type": "code",
        "id": "7LT0RoAC81Tc",
        "outputId": "66ed18a9-e554-478c-87da-2a467b5eab41",
        "colab": {
          "base_uri": "https://localhost:8080/",
          "height": 235
        }
      },
      "source": [
        "images, labels = test_data_iter.next()\n",
        "\n",
        "# print images\n",
        "imshow(torchvision.utils.make_grid(images))\n",
        "plt.show()\n",
        "\n",
        "print('GroundTruth:  ', ' '.join('%5s' % classes[labels[j]] for j in range(4)))\n",
        "\n",
        "_, predicted = torch.max(outputs.data, 1)\n",
        "print('Predicted:    ', ' '.join('%5s' % classes[predicted[j]] for j in range(4)))"
      ],
      "execution_count": 0,
      "outputs": [
        {
          "output_type": "error",
          "ename": "NameError",
          "evalue": "ignored",
          "traceback": [
            "\u001b[0;31m---------------------------------------------------------------------------\u001b[0m",
            "\u001b[0;31mNameError\u001b[0m                                 Traceback (most recent call last)",
            "\u001b[0;32m<ipython-input-8-bcc0ef6dd139>\u001b[0m in \u001b[0;36m<module>\u001b[0;34m()\u001b[0m\n\u001b[1;32m      2\u001b[0m \u001b[0;34m\u001b[0m\u001b[0m\n\u001b[1;32m      3\u001b[0m \u001b[0;31m# print images\u001b[0m\u001b[0;34m\u001b[0m\u001b[0;34m\u001b[0m\u001b[0;34m\u001b[0m\u001b[0m\n\u001b[0;32m----> 4\u001b[0;31m \u001b[0mimshow\u001b[0m\u001b[0;34m(\u001b[0m\u001b[0mtorchvision\u001b[0m\u001b[0;34m.\u001b[0m\u001b[0mutils\u001b[0m\u001b[0;34m.\u001b[0m\u001b[0mmake_grid\u001b[0m\u001b[0;34m(\u001b[0m\u001b[0mimages\u001b[0m\u001b[0;34m)\u001b[0m\u001b[0;34m)\u001b[0m\u001b[0;34m\u001b[0m\u001b[0;34m\u001b[0m\u001b[0m\n\u001b[0m\u001b[1;32m      5\u001b[0m \u001b[0mplt\u001b[0m\u001b[0;34m.\u001b[0m\u001b[0mshow\u001b[0m\u001b[0;34m(\u001b[0m\u001b[0;34m)\u001b[0m\u001b[0;34m\u001b[0m\u001b[0;34m\u001b[0m\u001b[0m\n\u001b[1;32m      6\u001b[0m \u001b[0;34m\u001b[0m\u001b[0m\n",
            "\u001b[0;31mNameError\u001b[0m: name 'imshow' is not defined"
          ]
        }
      ]
    },
    {
      "cell_type": "markdown",
      "metadata": {
        "colab_type": "text",
        "id": "ISA6LJJO81Tg"
      },
      "source": [
        "Let us look at how the network performs on the whole dataset."
      ]
    },
    {
      "cell_type": "code",
      "metadata": {
        "colab_type": "code",
        "id": "Smv6_BwF81Ti",
        "outputId": "1984c79d-c4fa-4791-b11e-d997a726213c",
        "colab": {
          "base_uri": "https://localhost:8080/",
          "height": 34
        }
      },
      "source": [
        "correct = 0\n",
        "total = 0\n",
        "\n",
        "for data in testloader:\n",
        "    images, labels = data\n",
        "    outputs = net(Variable(images))\n",
        "    _, predicted = torch.max(outputs.data, 1)\n",
        "    total += labels.size(0)\n",
        "    correct += (predicted == labels).sum()\n",
        "\n",
        "print('Accuracy of the network on the {} test images: {:4.2f} %'.format(\n",
        "    testset.data.shape[0], 100 * correct / total))"
      ],
      "execution_count": 101,
      "outputs": [
        {
          "output_type": "stream",
          "text": [
            "Accuracy of the network on the 2000 test images: 65.00 %\n"
          ],
          "name": "stdout"
        }
      ]
    },
    {
      "cell_type": "markdown",
      "metadata": {
        "colab_type": "text",
        "id": "QMZRvhaW81Tl"
      },
      "source": [
        "Hopefully the network is better than chance, which is $\\frac{1}{\\text{number of classes}}$ accuracy (randomly picking\n",
        "a class).\n",
        "\n",
        "\n",
        "We can also examine which class the network found the most difficult (makes more sense if you have many clases):"
      ]
    },
    {
      "cell_type": "code",
      "metadata": {
        "colab_type": "code",
        "id": "WqVTQgKq81Tl",
        "outputId": "47a02b69-91e4-4582-d2a3-910fd7219b57",
        "colab": {
          "base_uri": "https://localhost:8080/",
          "height": 69
        }
      },
      "source": [
        "class_total = list(0. for i in range(len(classes)))\n",
        "class_correct = list(0. for i in range(len(classes)))\n",
        "\n",
        "for data in testloader:\n",
        "    images, labels = data\n",
        "    outputs = net(Variable(images))\n",
        "    _, predicted = torch.max(outputs.data, 1)\n",
        "    c = (predicted == labels).squeeze()\n",
        "    \n",
        "    for i in range(len(c)):\n",
        "        label = labels[i]\n",
        "        class_correct[label] += c[i].numpy()\n",
        "        class_total[label] += 1\n",
        "print(class_total)\n",
        "for i in range(len(classes)):\n",
        "    print('Accuracy of {:5s} : {:5.2f} %'.format(\n",
        "        classes[i], 100 * class_correct[i] / class_total[i]))"
      ],
      "execution_count": 102,
      "outputs": [
        {
          "output_type": "stream",
          "text": [
            "[1000.0, 1000.0]\n",
            "Accuracy of cat   : 68.30 %\n",
            "Accuracy of dog   : 63.60 %\n"
          ],
          "name": "stdout"
        }
      ]
    },
    {
      "cell_type": "markdown",
      "metadata": {
        "colab_type": "text",
        "id": "ocnQOBAl81Tn"
      },
      "source": [
        "**Assignment 4:** \n",
        "1. Go back and improve performance of the network. \n",
        " * If you are using all 10 classes you should get a test accuracy above 55%, but see how much further you can get it!\n",
        " * If you are using only 2 classes (e.g. cat and dog) you should get a test accuracy above 60%, but see how much further you can get it!\n",
        "\n",
        "2. Briefly describe what you did and any experiments you did along the way as well as what results you obtained.\n",
        "Did anything surprise you during the exercise?\n",
        "\n",
        "3. Write down key lessons/insights you got (if any) during this exercise.\n",
        "\n",
        "**Answer:**"
      ]
    },
    {
      "cell_type": "markdown",
      "metadata": {
        "colab_type": "text",
        "id": "8Nzefavy81To"
      },
      "source": [
        "# Training on GPU\n",
        "\n",
        "**Optional Assignment:**\n",
        "If you have a GPU we suggest that you try and rewrite the code above to run on the GPU\n",
        "___\n",
        "\n",
        "Just like how you transfer a Tensor on to the GPU, you transfer the neural net onto the GPU.\n",
        "This will recursively go over all modules and convert their parameters and buffers to CUDA tensors:\n",
        "\n",
        "```\n",
        "    net.cuda()\n",
        "```\n",
        "\n",
        "Remember that you will have to send the inputs and targets at every step to the GPU too:\n",
        "\n",
        "```\n",
        "    inputs, labels = Variable(inputs.cuda()), Variable(labels.cuda())\n",
        "```\n",
        "\n",
        "Why dont I notice MASSIVE speedup compared to CPU? \n",
        "Because your network is realllly small.\n",
        "\n",
        "**Exercise:** Try increasing the width of your network (argument 2 of\n",
        "the first ``nn.Conv2d``, and argument 1 of the second ``nn.Conv2d`` –\n",
        "they need to be the same number), see what kind of speedup you get.\n",
        "\n",
        "**Goals achieved**:\n",
        "\n",
        "- Understanding PyTorch's Tensor library and neural networks at a high level.\n",
        "- Train a small neural network to classify images\n",
        "\n",
        "\n"
      ]
    },
    {
      "cell_type": "markdown",
      "metadata": {
        "colab_type": "text",
        "id": "b8mEIylU81Tp"
      },
      "source": [
        "# Michael Nielsen book exercise of own choice\n",
        "\n",
        "**Assignment 5:** Pick an exercise of own choice from [Michael Nielsens book](http://neuralnetworksanddeeplearning.com/)\n",
        "\n",
        "One gotcha with the cross-entropy is that it can be difficult at first to remember the respective roles of the ys and the as. It's easy to get confused about whether the right form is $−[y·ln(a)+(1−y)ln(1−a)]$ or $−[a·ln(y)+(1−a)ln(1−y)]$. What happens to the second of these expressions when y=0 or 1? Does this problem afflict the first expression? Why or why not?\n",
        "\n",
        "**Answer:**\n",
        "\n",
        "When y=0 or 1 the second expression contains ln(0). The natural logarithm of 0 is undefined and $lim_{x->0} ln(x)=-\\infty$ . This problem does not occur in the first expression because the natural logarithm depends on the value of a\n",
        "\n",
        "\n"
      ]
    }
  ]
}