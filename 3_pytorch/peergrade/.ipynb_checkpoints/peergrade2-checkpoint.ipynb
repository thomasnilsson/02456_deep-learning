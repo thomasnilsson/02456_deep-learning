{
  "nbformat": 4,
  "nbformat_minor": 0,
  "metadata": {
    "kernelspec": {
      "name": "python3",
      "display_name": "Python 3"
    },
    "language_info": {
      "codemirror_mode": {
        "name": "ipython",
        "version": 3
      },
      "file_extension": ".py",
      "mimetype": "text/x-python",
      "name": "python",
      "nbconvert_exporter": "python",
      "pygments_lexer": "ipython3",
      "version": "3.6.6"
    },
    "colab": {
      "name": "3.4-EXE-FFN-MNIST.ipynb",
      "provenance": [],
      "collapsed_sections": []
    }
  },
  "cells": [
    {
      "cell_type": "markdown",
      "metadata": {
        "id": "HWwRM955TCpP",
        "colab_type": "text"
      },
      "source": [
        "# Credits\n",
        "> This code is a slight modification to a translation (TensorFlow --> PyTorch) of a previous version of the [02456](http://kurser.dtu.dk/course/02456) course material. \n",
        "> [Original repo link (TensorFlow)](https://github.com/DeepLearningDTU/02456-deep-learning).\n",
        "> [Translated repo link (PyTorch)](https://github.com/munkai/pytorch-tutorial/tree/master/2_intermediate)."
      ]
    },
    {
      "cell_type": "code",
      "metadata": {
        "id": "lLb9E4enTCpT",
        "colab_type": "code",
        "colab": {}
      },
      "source": [
        "import torch\n",
        "from torch.autograd import Variable\n",
        "from torch.nn.parameter import Parameter\n",
        "import torch.nn as nn\n",
        "import torch.nn.functional as F\n",
        "import torch.optim as optim\n",
        "import torch.nn.init as init\n",
        "\n",
        "%matplotlib inline\n",
        "import matplotlib\n",
        "import numpy as np\n",
        "import matplotlib.pyplot as plt"
      ],
      "execution_count": 0,
      "outputs": []
    },
    {
      "cell_type": "markdown",
      "metadata": {
        "id": "lbVz7yIrTCpW",
        "colab_type": "text"
      },
      "source": [
        "# MNIST dataset\n",
        "MNIST is a dataset that is often used for benchmarking. The MNIST dataset consists of 70,000 images of handwritten digits from 0-9. The dataset is split into a 50,000 images training set, 10,000 images validation set and 10,000 images test set. The images are 28x28 pixels, where each pixel represents a normalised value between 0-255 (0=black and 255=white).\n",
        "\n",
        "![MNIST.Exampel](https://github.com/DeepLearningDTU/02456-deep-learning-with-PyTorch/blob/master/static_files/mnist.png?raw=1)\n",
        "\n",
        "\n",
        "## Primer\n",
        "We use a feedforward neural network to classify the 28x28 mnist images. `num_features` is therefore $28 * 28=784$, i.e. we represent each image as a vector. The ordering of the pixels in the vector does not matter, so we could permutate all images using the same permutation and still get the same performance. (You are of course encouraged to try this using ``numpy.random.permutation`` to get a random permutation. This task is therefore called the _permutation invariant_ MNIST. Obviously this throws away a lot of structure in the data. In the next module we'll fix this with the convolutional neural network wich encodes prior knowledgde about data that has either spatial or temporal structure.  "
      ]
    },
    {
      "cell_type": "markdown",
      "metadata": {
        "collapsed": true,
        "id": "0glCXhY2TCpX",
        "colab_type": "text"
      },
      "source": [
        "## MNIST\n",
        "First let's load the MNIST dataset and plot a few examples:"
      ]
    },
    {
      "cell_type": "code",
      "metadata": {
        "id": "P0BVxZ92TCpX",
        "colab_type": "code",
        "outputId": "aebca30b-56c2-4d1d-84dd-15cefb8cf330",
        "colab": {
          "base_uri": "https://localhost:8080/",
          "height": 302
        }
      },
      "source": [
        "!if [ ! -f mnist.npz ]; then wget -N https://github.com/maximai/placeholder_repo/raw/master/mnist.npz; else echo \"mnist.npz already downloaded\"; fi"
      ],
      "execution_count": 0,
      "outputs": [
        {
          "output_type": "stream",
          "text": [
            "--2019-09-23 13:45:14--  https://github.com/maximai/placeholder_repo/raw/master/mnist.npz\n",
            "Resolving github.com (github.com)... 140.82.113.4\n",
            "Connecting to github.com (github.com)|140.82.113.4|:443... connected.\n",
            "HTTP request sent, awaiting response... 302 Found\n",
            "Location: https://raw.githubusercontent.com/maximai/placeholder_repo/master/mnist.npz [following]\n",
            "--2019-09-23 13:45:15--  https://raw.githubusercontent.com/maximai/placeholder_repo/master/mnist.npz\n",
            "Resolving raw.githubusercontent.com (raw.githubusercontent.com)... 151.101.0.133, 151.101.64.133, 151.101.128.133, ...\n",
            "Connecting to raw.githubusercontent.com (raw.githubusercontent.com)|151.101.0.133|:443... connected.\n",
            "HTTP request sent, awaiting response... 200 OK\n",
            "Length: 17069878 (16M) [application/octet-stream]\n",
            "Saving to: ‘mnist.npz’\n",
            "\n",
            "mnist.npz           100%[===================>]  16.28M  92.4MB/s    in 0.2s    \n",
            "\n",
            "Last-modified header missing -- time-stamps turned off.\n",
            "2019-09-23 13:45:17 (92.4 MB/s) - ‘mnist.npz’ saved [17069878/17069878]\n",
            "\n"
          ],
          "name": "stdout"
        }
      ]
    },
    {
      "cell_type": "code",
      "metadata": {
        "id": "lGR8Xw0LTCpb",
        "colab_type": "code",
        "outputId": "c05f5585-edec-4dbf-bb1f-e4cc35092b60",
        "colab": {
          "base_uri": "https://localhost:8080/",
          "height": 134
        }
      },
      "source": [
        "#To speed up training we'll only work on a subset of the data\n",
        "data = np.load('mnist.npz')\n",
        "num_classes = 10\n",
        "x_train = data['X_train'][:1000].astype('float32')\n",
        "targets_train = data['y_train'][:1000].astype('int32')\n",
        "\n",
        "x_valid = data['X_valid'][:500].astype('float32')\n",
        "targets_valid = data['y_valid'][:500].astype('int32')\n",
        "\n",
        "x_test = data['X_test'][:500].astype('float32')\n",
        "targets_test = data['y_test'][:500].astype('int32')\n",
        "\n",
        "print(\"Information on dataset\")\n",
        "print(\"x_train\", x_train.shape)\n",
        "print(\"targets_train\", targets_train.shape)\n",
        "print(\"x_valid\", x_valid.shape)\n",
        "print(\"targets_valid\", targets_valid.shape)\n",
        "print(\"x_test\", x_test.shape)\n",
        "print(\"targets_test\", targets_test.shape)"
      ],
      "execution_count": 0,
      "outputs": [
        {
          "output_type": "stream",
          "text": [
            "Information on dataset\n",
            "x_train (1000, 784)\n",
            "targets_train (1000,)\n",
            "x_valid (500, 784)\n",
            "targets_valid (500,)\n",
            "x_test (500, 784)\n",
            "targets_test (500,)\n"
          ],
          "name": "stdout"
        }
      ]
    },
    {
      "cell_type": "code",
      "metadata": {
        "id": "5iswYdOjTCpe",
        "colab_type": "code",
        "outputId": "562b6eb6-70c3-4323-8c6e-78a77643621d",
        "colab": {
          "base_uri": "https://localhost:8080/",
          "height": 34
        }
      },
      "source": [
        "data"
      ],
      "execution_count": 0,
      "outputs": [
        {
          "output_type": "execute_result",
          "data": {
            "text/plain": [
              "<numpy.lib.npyio.NpzFile at 0x7f5ee29d0f28>"
            ]
          },
          "metadata": {
            "tags": []
          },
          "execution_count": 4
        }
      ]
    },
    {
      "cell_type": "code",
      "metadata": {
        "scrolled": false,
        "id": "Yz2hzfsNTCpk",
        "colab_type": "code",
        "outputId": "c6535129-6093-4867-8811-6d376b7bfbca",
        "colab": {
          "base_uri": "https://localhost:8080/",
          "height": 281
        }
      },
      "source": [
        "#plot a few MNIST examples\n",
        "idx, dim, classes = 0, 28, 10\n",
        "# create empty canvas\n",
        "canvas = np.zeros((dim*classes, classes*dim))\n",
        "\n",
        "# fill with tensors\n",
        "for i in range(classes):\n",
        "    for j in range(classes):\n",
        "        canvas[i*dim:(i+1)*dim, j*dim:(j+1)*dim] = x_train[idx].reshape((dim, dim))\n",
        "        idx += 1\n",
        "\n",
        "# visualize matrix of tensors as gray scale image\n",
        "plt.figure(figsize=(4, 4))\n",
        "plt.axis('off')\n",
        "plt.imshow(canvas, cmap='gray')\n",
        "plt.title('MNIST handwritten digits')\n",
        "plt.show()"
      ],
      "execution_count": 0,
      "outputs": [
        {
          "output_type": "display_data",
          "data": {
            "image/png": "[encoded data removed]",
            "text/plain": [
              "<Figure size 288x288 with 1 Axes>"
            ]
          },
          "metadata": {
            "tags": []
          }
        }
      ]
    },
    {
      "cell_type": "markdown",
      "metadata": {
        "id": "MIWV4tbOTCpn",
        "colab_type": "text"
      },
      "source": [
        "## Model\n",
        "\n",
        "One of the large challenges in deep learning is the amount of hyperparameters that needs to be selected, and the lack of a good principled way of selecting them.\n",
        "Hyperparameters can be found by experience (guessing) or some search procedure (often quite slow).\n",
        "Random search is easy to implement and performs decent: http://www.jmlr.org/papers/volume13/bergstra12a/bergstra12a.pdf . \n",
        "More advanced search procedures include [Spearmint](https://github.com/JasperSnoek/spearmint) and many others.\n",
        "\n",
        "**In practice a lot of trial and error is almost always involved.** This can be frustrating and time consuming, but the best thing to do is to think as a scientist, and go about it in a ordered manner --> monitor as much as you can, take notes, and be deliberate!\n",
        "\n",
        "Below are some guidelines that you can use as a starting point to some of the most important hyperparameters. \n",
        "(*regularization* is also very important, but will be covered later.)\n",
        "\n",
        "\n",
        "### Ballpark estimates of hyperparameters\n",
        "__Number of hidden units and network structure:__\n",
        "You'll have to experiment. One rarely goes below 512 units for feedforward networks (unless your are training on CPU...).\n",
        "There's some research into stochastic depth networks: https://arxiv.org/pdf/1603.09382v2.pdf, but in general this is trial and error.\n",
        "\n",
        "__Parameter initialization:__\n",
        "Parameter initialization is extremely important.\n",
        "PyTorch has a lot of different initializers, check the [PyTorch API](http://pytorch.org/docs/master/nn.html#torch-nn-init). Often used initializer are\n",
        "1. Kaming He\n",
        "2. Xavier Glorot\n",
        "3. Uniform or Normal with small scale (0.1 - 0.01)\n",
        "4. Orthogonal (this usually works very well for RNNs)\n",
        "\n",
        "Bias is nearly always initialized to zero using the [torch.nn.init.constant(tensor, val)](http://pytorch.org/docs/master/nn.html#torch.nn.init.constant)\n",
        "\n",
        "__Mini-batch size:__\n",
        "Usually people use 16-256. Bigger is not allways better. With smaller mini-batch size you get more updates and your model might converge faster. Also small batch sizes use less memory, which means you can train a model with more parameters.\n",
        "\n",
        "__Nonlinearity:__ [The most commonly used nonliearities are](http://pytorch.org/docs/master/nn.html#non-linear-activations)\n",
        "1. ReLU\n",
        "2. Leaky ReLU\n",
        "3. Elu\n",
        "3. Sigmoid squash the output [0, 1], and are used if your output is binary (not used in the hidden layers)\n",
        "4. Tanh is similar to sigmoid, but squashes in [-1, 1]. It is rarely used any more.\n",
        "4. Softmax normalizes the the output to 1, and is used as output if you have a classification problem\n",
        "\n",
        "See the plot below.\n",
        "\n",
        "__Optimizer and learning rate:__\n",
        "1. SGD + Momentum: learning rate 1.0 - 0.1 \n",
        "2. ADAM: learning rate 3*1e-4 - 1e-5\n",
        "3. RMSPROP: somewhere between SGD and ADAM\n"
      ]
    },
    {
      "cell_type": "code",
      "metadata": {
        "id": "ynuyX8u3TCpn",
        "colab_type": "code",
        "outputId": "a488a876-35cb-420d-8452-cdb5aaefd775",
        "colab": {
          "base_uri": "https://localhost:8080/",
          "height": 358
        }
      },
      "source": [
        "# Illustrate different output units\n",
        "x = np.linspace(-6, 6, 100)\n",
        "units = {\n",
        "    \"ReLU\": lambda x: np.maximum(0, x),\n",
        "    \"Leaky ReLU\": lambda x: np.maximum(0, x) + 0.1 * np.minimum(0, x),\n",
        "    \"Elu\": lambda x: (x > 0) * x + (1 - (x > 0)) * (np.exp(x) - 1),\n",
        "    \"Sigmoid\": lambda x: (1 + np.exp(-x))**(-1),\n",
        "    \"tanh\": lambda x: (np.exp(x) - np.exp(-x)) / (np.exp(x) + np.exp(-x))\n",
        "}\n",
        "\n",
        "plt.figure(figsize=(5, 5))\n",
        "[plt.plot(x, unit(x), label=unit_name, lw=2) for unit_name, unit in units.items()]\n",
        "plt.legend(loc=2, fontsize=16)\n",
        "plt.title('Non-linearities', fontsize=20)\n",
        "plt.ylim([-2, 5])\n",
        "plt.xlim([-6, 6])\n",
        "\n",
        "# assert that all class probablities sum to one\n",
        "softmax = lambda x: np.exp(x) / np.sum(np.exp(x))\n",
        "print(\"softmax should sum to one (approxiamtely):\", np.sum(softmax(x)))"
      ],
      "execution_count": 0,
      "outputs": [
        {
          "output_type": "stream",
          "text": [
            "softmax should sum to one (approxiamtely): 1.0\n"
          ],
          "name": "stdout"
        },
        {
          "output_type": "display_data",
          "data": {
            "image/png": "[encoded data removed]",
            "text/plain": [
              "<Figure size 360x360 with 1 Axes>"
            ]
          },
          "metadata": {
            "tags": []
          }
        }
      ]
    },
    {
      "cell_type": "code",
      "metadata": {
        "id": "CduB_VR2TCpq",
        "colab_type": "code",
        "colab": {}
      },
      "source": [
        "#Hyperparameters\n",
        "num_classes = 10\n",
        "num_l1 = 512\n",
        "num_l2 = 512\n",
        "num_features = x_train.shape[1]\n",
        "\n",
        "# define network\n",
        "class Net(nn.Module):\n",
        "\n",
        "    def __init__(self, num_features, num_hidden, num_hidden2, num_output):\n",
        "        super(Net, self).__init__()  \n",
        "        # input layer\n",
        "        #self.W_1 = Parameter(init.xavier_normal_(torch.Tensor(num_hidden, num_features)))\n",
        "        self.W_1 = Parameter(init.kaiming_normal_(torch.Tensor(num_hidden, num_features))) # -------- Using Kaiming instead\n",
        "        self.b_1 = Parameter(init.constant_(torch.Tensor(num_hidden), 0))\n",
        "        # hidden layer 1\n",
        "        #self.W_2 = Parameter(init.xavier_normal_(torch.Tensor(num_output, num_hidden)))\n",
        "        self.W_2 = Parameter(init.kaiming_normal_(torch.Tensor(num_hidden2, num_hidden))) #-------- Using Kaiming instead\n",
        "        self.b_2 = Parameter(init.constant_(torch.Tensor(num_hidden2), 0))\n",
        "        \n",
        "        # hidden layer 2 ------------ Added Layer\n",
        "        self.W_3 = Parameter(init.kaiming_normal_(torch.Tensor(num_output, num_hidden2)))\n",
        "        self.b_3 = Parameter(init.constant_(torch.Tensor(num_output),0))\n",
        "        \n",
        "        # define activation function in constructor\n",
        "        #self.activation = torch.nn.ELU()\n",
        "        self.activation = torch.nn.ReLU() #-------- Uses ReLU\n",
        "        \n",
        "        self.dropout = nn.Dropout(0.5)    #---------Added Dropout\n",
        "        self.bn1 = nn.BatchNorm1d(num_hidden) #-------Added BatchNorm\n",
        "        self.bn2 = nn.BatchNorm1d(num_hidden2) #-------Added BatchNorm\n",
        "\n",
        "    def forward(self, x):\n",
        "        x = F.linear(x, self.W_1, self.b_1)\n",
        "        x = self.bn1(x)                    #--------------------Added BatchNorm\n",
        "        x = self.activation(x)\n",
        "        x = self.dropout(x)                #--------------------Added Dropout\n",
        "        x = F.linear(x, self.W_2, self.b_2)\n",
        "        x = self.bn2(x)                    #--------------------Added Batchnorm\n",
        "        x = self.activation(x)\n",
        "        x = self.dropout(x)                #--------------------Added Dropout\n",
        "        x = F.linear(x,self.W_3, self.b_3)  #-------------------Added layer\n",
        "        return F.softmax(x, dim=1)\n",
        "\n",
        "\n",
        "net = Net(num_features, num_l1, num_l2, num_classes)"
      ],
      "execution_count": 0,
      "outputs": []
    },
    {
      "cell_type": "code",
      "metadata": {
        "id": "RBYl6-bCTCps",
        "colab_type": "code",
        "colab": {}
      },
      "source": [
        "#optimizer = optim.SGD(net.parameters(), lr=0.1)\n",
        "#optimizer = optim.SGD(net.parameters(), lr=0.1, momentum = 0.8) #------- Uses momentum\n",
        "#optimizer = optim.Adam(net.parameters(), lr=0.0002) #---------- Uses Adam\n",
        "optimizer = optim.Adam(net.parameters(), lr=0.0002, weight_decay=0.0000001) #----------- Uses adam with regulation for L2\n",
        "criterion = nn.CrossEntropyLoss()"
      ],
      "execution_count": 0,
      "outputs": []
    },
    {
      "cell_type": "code",
      "metadata": {
        "id": "8wLKaknwTCpu",
        "colab_type": "code",
        "outputId": "3b66a90b-7489-443d-e7ba-89dbd31171c1",
        "colab": {
          "base_uri": "https://localhost:8080/",
          "height": 34
        }
      },
      "source": [
        "#Test the forward pass with dummy data\n",
        "x = np.random.normal(0, 1, (45, dim*dim)).astype('float32')\n",
        "\n",
        "print(net(Variable(torch.from_numpy(x))).size())"
      ],
      "execution_count": 0,
      "outputs": [
        {
          "output_type": "stream",
          "text": [
            "torch.Size([45, 10])\n"
          ],
          "name": "stdout"
        }
      ]
    },
    {
      "cell_type": "markdown",
      "metadata": {
        "id": "H_MmHTOiTCpw",
        "colab_type": "text"
      },
      "source": [
        "# Build the training loop\n",
        "\n",
        "We train the network by calculating the gradient w.r.t the cost function and update the parameters in direction of the negative gradient. \n",
        "\n",
        "\n",
        "When training neural network you always use mini batches. Instead of calculating the average gradient using the entire dataset you approximate the gradient using a mini-batch of typically 16 to 256 samples. The paramters are updated after each mini batch. Networks converge much faster using mini batches because the parameters are updated more often.\n",
        "\n",
        "We build a loop that iterates over the training data. Remember that the parameters are updated each time ``optimizer.step()`` is called."
      ]
    },
    {
      "cell_type": "code",
      "metadata": {
        "id": "qA_gIG3CTCpz",
        "colab_type": "code",
        "outputId": "591356e2-3f7b-4cd1-b9e5-47160eec22e0",
        "colab": {
          "base_uri": "https://localhost:8080/",
          "height": 468
        }
      },
      "source": [
        "# we could have done this ourselves,\n",
        "# but we should be aware of sklearn and it's tools\n",
        "from sklearn.metrics import accuracy_score\n",
        "\n",
        "# setting hyperparameters and gettings epoch sizes\n",
        "batch_size = 100\n",
        "num_epochs = 100\n",
        "num_samples_train = x_train.shape[0]\n",
        "num_batches_train = num_samples_train // batch_size\n",
        "num_samples_valid = x_valid.shape[0]\n",
        "num_batches_valid = num_samples_valid // batch_size\n",
        "\n",
        "# setting up lists for handling loss/accuracy\n",
        "train_acc, train_loss = [], []\n",
        "valid_acc, valid_loss = [], []\n",
        "test_acc, test_loss = [], []\n",
        "cur_loss = 0\n",
        "losses = []\n",
        "\n",
        "get_slice = lambda i, size: range(i * size, (i + 1) * size)\n",
        "\n",
        "for epoch in range(num_epochs):\n",
        "    # Forward -> Backprob -> Update params\n",
        "    ## Train\n",
        "    cur_loss = 0\n",
        "    net.train()\n",
        "    for i in range(num_batches_train):\n",
        "        slce = get_slice(i, batch_size)\n",
        "        x_batch = Variable(torch.from_numpy(x_train[slce]))\n",
        "        output = net(x_batch)\n",
        "        \n",
        "        # compute gradients given loss\n",
        "        target_batch = Variable(torch.from_numpy(targets_train[slce]).long())\n",
        "        batch_loss = criterion(output, target_batch)\n",
        "        optimizer.zero_grad()\n",
        "        batch_loss.backward()\n",
        "        optimizer.step()\n",
        "        \n",
        "        cur_loss += batch_loss   \n",
        "    losses.append(cur_loss / batch_size)\n",
        "\n",
        "    net.eval()\n",
        "    ### Evaluate training\n",
        "    train_preds, train_targs = [], []\n",
        "    for i in range(num_batches_train):\n",
        "        slce = get_slice(i, batch_size)\n",
        "        x_batch = Variable(torch.from_numpy(x_train[slce]))\n",
        "        \n",
        "        output = net(x_batch)\n",
        "        preds = torch.max(output, 1)[1]\n",
        "        \n",
        "        train_targs += list(targets_train[slce])\n",
        "        train_preds += list(preds.data.numpy())\n",
        "    \n",
        "    ### Evaluate validation\n",
        "    val_preds, val_targs = [], []\n",
        "    for i in range(num_batches_valid):\n",
        "        slce = get_slice(i, batch_size)\n",
        "        x_batch = Variable(torch.from_numpy(x_valid[slce]))\n",
        "        \n",
        "        output = net(x_batch)\n",
        "        preds = torch.max(output, 1)[1]\n",
        "        val_preds += list(preds.data.numpy())\n",
        "        val_targs += list(targets_valid[slce])\n",
        "\n",
        "    train_acc_cur = accuracy_score(train_targs, train_preds)\n",
        "    valid_acc_cur = accuracy_score(val_targs, val_preds)\n",
        "    \n",
        "    train_acc.append(train_acc_cur)\n",
        "    valid_acc.append(valid_acc_cur)\n",
        "    \n",
        "    if epoch % 10 == 0:\n",
        "        print(\"Epoch %2i : Train Loss %f , Train acc %f, Valid acc %f\" % (\n",
        "                epoch+1, losses[-1], train_acc_cur, valid_acc_cur))\n",
        "\n",
        "epoch = np.arange(len(train_acc))\n",
        "plt.figure()\n",
        "plt.plot(epoch, train_acc, 'r', epoch, valid_acc, 'b')\n",
        "plt.legend(['Train Accucary','Validation Accuracy'])\n",
        "plt.xlabel('Updates'), plt.ylabel('Acc')"
      ],
      "execution_count": 0,
      "outputs": [
        {
          "output_type": "stream",
          "text": [
            "Epoch  1 : Train Loss 0.229805 , Train acc 0.308000, Valid acc 0.296000\n",
            "Epoch 11 : Train Loss 0.182128 , Train acc 0.793000, Valid acc 0.706000\n",
            "Epoch 21 : Train Loss 0.167915 , Train acc 0.876000, Valid acc 0.770000\n",
            "Epoch 31 : Train Loss 0.159293 , Train acc 0.943000, Valid acc 0.832000\n",
            "Epoch 41 : Train Loss 0.155713 , Train acc 0.967000, Valid acc 0.850000\n",
            "Epoch 51 : Train Loss 0.152666 , Train acc 0.970000, Valid acc 0.868000\n",
            "Epoch 61 : Train Loss 0.150661 , Train acc 0.977000, Valid acc 0.864000\n",
            "Epoch 71 : Train Loss 0.150046 , Train acc 0.982000, Valid acc 0.870000\n",
            "Epoch 81 : Train Loss 0.149554 , Train acc 0.985000, Valid acc 0.870000\n",
            "Epoch 91 : Train Loss 0.148665 , Train acc 0.985000, Valid acc 0.854000\n"
          ],
          "name": "stdout"
        },
        {
          "output_type": "execute_result",
          "data": {
            "text/plain": [
              "(Text(0.5, 0, 'Updates'), Text(0, 0.5, 'Acc'))"
            ]
          },
          "metadata": {
            "tags": []
          },
          "execution_count": 10
        },
        {
          "output_type": "display_data",
          "data": {
            "image/png": "[encoded data removed]",
            "text/plain": [
              "<Figure size 432x288 with 1 Axes>"
            ]
          },
          "metadata": {
            "tags": []
          }
        }
      ]
    },
    {
      "cell_type": "markdown",
      "metadata": {
        "collapsed": true,
        "id": "cN4mmTrfTCp3",
        "colab_type": "text"
      },
      "source": [
        "# Assignments\n",
        "\n",
        "Try and add these modifications (might require some Googleing -- an important skill in deep learning):\n",
        "- Kaiming He initialization instead of Xavier Glorot\n",
        "- add an extra layer\n",
        "- use the relu activation function\n",
        "- add momentum to the optimizer\n",
        "- use the ADAM optimizer instead of stochastic gradient descent\n",
        "\n",
        "### Advanced - Regularization\n",
        "\n",
        "Regularization is VERY important in practice and is used practically every time.\n",
        "Many important results are completely dependent on cleaver use of regularization, and it is something you need to become familiar with if you want to work with deep learning.\n",
        "\n",
        "- add L1 or L2 weight regularization (aka. weight decay) \n",
        "- add dropout to the network (**note** the `net.train()` and `net.eval()` are already in the code)\n",
        "- add batchnorm\n",
        "\n",
        "__Pointers on regularization hyperparameter:__\n",
        "1. L2 and [L1 regularization](http://pytorch.org/docs/master/nn.html#torch.nn.L1Loss) (weight decay of optimization functions) \n",
        "  - Normal ranges: 1e-4  -  1e-8\n",
        "1. [Dropout](http://pytorch.org/docs/master/nn.html?highlight=dropout#torch.nn.Dropout). Dropout rate 0.1-0.5\n",
        "  - Remember to pick the correct version according to the input dimensionality\n",
        "  - **NOTE** call `net.train()` before training to activate random dropout, and call `net.eval()` to deactivate dropout while validating or running inference with model.\n",
        "1. [Batchnorm](http://pytorch.org/docs/master/nn.html#torch.nn.BatchNorm1d): Batchnorm also acts as a regularizer - Often very useful (faster and better convergence)\n",
        "  - Remember to pick the correct version according to the input dimensionality\n",
        "  - **NOTE** call `net.train()` before training to activate, and call `net.eval()` to have a non-stochastic variant while validating or running inference with model.\n",
        "    "
      ]
    },
    {
      "cell_type": "code",
      "metadata": {
        "id": "aPlQgVcRHRt4",
        "colab_type": "code",
        "colab": {}
      },
      "source": [
        "#1.1\n",
        "\n",
        "# I simply change\n",
        "\n",
        "# self.W_1 = Parameter(init.xavier_normal_(torch.Tensor(num_hidden, num_features)))\n",
        "\n",
        "# and\n",
        "\n",
        "# self.W_2 = Parameter(init.xavier_normal_(torch.Tensor(num_hidden, num_features)))\n",
        "\n",
        "# to\n",
        "\n",
        "# self.W_1 = Parameter(init.kaiming_normal_(torch.Tensor(num_hidden, num_features)))\n",
        "# self.W_2 = Parameter(init.kaiming_normal_(torch.Tensor(num_output, num_hidden)))\n",
        "\n",
        "\n",
        "#1.2\n",
        "# I added another input to the Net namely the number of units in the added layer. \n",
        "# Furthermore I changed the weight and bias paramters to use the new variable so that the input and output for each layer is correct.\n",
        "\n",
        "\n",
        "#1.3\n",
        "# I simply changed\n",
        "\n",
        "# self.activation = torch.nn.ELU()\n",
        "\n",
        "# to\n",
        "\n",
        "# self.activation = torch.nn.ReLU()\n",
        "\n",
        "\n",
        "#1.4\n",
        "# I changed \n",
        "\n",
        "# optimizer = optim.SGD(net.parameters(), lr=0.1)\n",
        "\n",
        "# to\n",
        "\n",
        "#optimizer = optim.SGD(net.parameters(), lr=0.1, momentum = 0.8)\n",
        "\n",
        "\n",
        "#1.5\n",
        "# I changed \n",
        "\n",
        "#optimizer = optim.SGD(net.parameters(), lr=0.1, momentum = 0.8) #------- Uses momentum\n",
        "\n",
        "# to\n",
        "\n",
        "# optimizer = optim.Adam(net.parameters(), lr=0.0002) #---------- Uses Adam\n",
        "\n",
        "\n",
        "\n",
        "\n",
        "\n",
        "#2.1\n",
        "# I added L2 regularization with weight decay 1e-7 by changing\n",
        "\n",
        "# optimizer = optim.Adam(net.parameters(), lr=0.0002) #---------- Uses Adam\n",
        "\n",
        "# to\n",
        "\n",
        "# optimizer = optim.Adam(net.parameters(), lr=0.0002, weight_decay=0.0000001) #----------- Uses adam with regulation for L2\n",
        "\n",
        "\n",
        "#2.2\n",
        "# To use dropout I added a dropout in the constructor of the network with a probability of 0.5.\n",
        "\n",
        "# self.dropout = nn.Dropout(0.5)\n",
        "\n",
        "# I then use this dropout in the forward function by adding the dropout after the relu activations\n",
        "\n",
        "# x = self.dropout(x)\n",
        "\n",
        "\n",
        "#2.3\n",
        "# Again I add the batchnorm for the hidden layers in the constructor and then apply the batchnorm in the forward function between the linear matrix multiplications and the activations.\n",
        "\n",
        "# self.bn1 = nn.BatchNorm1d(num_hidden) --------------- In constructor\n",
        "# self.bn2 = nn.BatchNorm1d(num_hidden2) --------------- In constructor\n",
        "\n",
        "# x = self.bn1(x)  ------------------------------------ In forward function\n",
        "# x = self.bn2(x)  ------------------------------------ In forward function\n"
      ],
      "execution_count": 0,
      "outputs": []
    },
    {
      "cell_type": "markdown",
      "metadata": {
        "id": "xDD1Agf3TCp4",
        "colab_type": "text"
      },
      "source": [
        "You are done for now. [Good job.](https://media1.tenor.com/images/0fd559b07f2174f9b8b7dbde7c5a67ca/tenor.gif)"
      ]
    },
    {
      "cell_type": "markdown",
      "metadata": {
        "id": "mI0JjGRKOlSp",
        "colab_type": "text"
      },
      "source": [
        "#Exercise from chapter 1\n",
        "\n",
        "**Sigmoid neurons simulating perceptrons, part I \n",
        "Suppose we take all the weights and biases in a network of perceptrons, and multiply them by a positive constant, c>0. Show that the behaviour of the network doesn't change.**\n",
        "\n",
        "From the chapter we know that the output of sigmoid neuron that simulates a perceptron in the neural network is:\n",
        "\n",
        "\\begin{eqnarray}\n",
        "  \\mbox{output} = \\left\\{ \n",
        "    \\begin{array}{ll} \n",
        "      0 & \\mbox{if } w\\cdot x + b \\leq 0 \\\\\n",
        "      1 & \\mbox{if } w\\cdot x + b > 0\n",
        "    \\end{array}\n",
        "  \\right.\n",
        "\\end{eqnarray}\n",
        "\n",
        "If we multiply all weigths and all biases by a constant the output is:\n",
        "\n",
        "\\begin{eqnarray}\n",
        "  \\mbox{output} = \\left\\{ \n",
        "    \\begin{array}{ll} \n",
        "      0 & \\mbox{if } cw\\cdot x + cb \\leq 0 \\\\\n",
        "      1 & \\mbox{if } cw\\cdot x + cb > 0\n",
        "    \\end{array}\n",
        "  \\right.\n",
        "\\end{eqnarray}\n",
        "\n",
        "which is equal to:\n",
        "\n",
        "\\begin{eqnarray}\n",
        "  \\mbox{output} = \\left\\{ \n",
        "    \\begin{array}{ll} \n",
        "      0 & \\mbox{if } c\\cdot(w\\cdot x + b) \\leq 0 \\\\\n",
        "      1 & \\mbox{if } c\\cdot(w\\cdot x + b) > 0\n",
        "    \\end{array}\n",
        "  \\right.\n",
        "\\end{eqnarray}\n",
        "\n",
        "We know that the constant c is positive, which menas that the sign of the output which is the deciding factor, thus the output will be the same.\n",
        "\n",
        "\n"
      ]
    }
  ]
}